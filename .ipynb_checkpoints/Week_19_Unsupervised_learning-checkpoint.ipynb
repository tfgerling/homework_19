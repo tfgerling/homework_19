{
 "cells": [
  {
   "cell_type": "markdown",
   "id": "27170287",
   "metadata": {},
   "source": [
    "## Week 19 - Unsupervised Learning"
   ]
  },
  {
   "cell_type": "markdown",
   "id": "501d487d",
   "metadata": {},
   "source": [
    "### 1. Create a study guide for all the supervised learning models we have gone over. Include information about how the algorithms work, how they are evaluated, and any other information you deem necessary. Use your own words. Do NOT copy mine or that of articles we have read.\n",
    "\n"
   ]
  },
  {
   "cell_type": "markdown",
   "id": "ecfd6645",
   "metadata": {},
   "source": [
    "| Supervised Learning Study Guide |\n",
    "|--|\n",
    "\n",
    "| Model |\n",
    "|:--|\n",
    "| Linear Models |\n",
    "| - Ordinary Least Squares (OLS) – type of linear regression that lets you estimate the dependent variable and the interaction between features. So, you can incorporate features that are correlated with each other. The coefficient estimates rely on the independence of features. When features are correlated and the columns of the design matrix X have an approximately linear dependence, the design matrix becomes close to singular and as a result, the least-squares estimate becomes highly sensitive to random errors in the observed target, producing a large variance. This situation of multicollinearity can arise, for example, when data are collected without an experimental design. OLS is computed using the singular value decomposition of X. |\n",
    "| -\tRidge regression & classification – Ridge regression imposes a penalty on the size of the coefficients to address some of the problems found by using OLS. The complexity parameter controls the amount of shrinkage. The greater the amount of shrinkage, the more robust the coefficients are to collinearity. The Ridge classifier converts binary targets and then treats the problem as a regression task. Ridge classifier is faster than Logistic Regression with a high number of classes since it can compute the projection matrix once. |\n",
    "| -\tRidgeCV – implements ridge regression with built-in cross-validation of the alpha parameter. Specifying the value of the cv attribute will trigger the use of cross-validation with GridSearchCV. |\n",
    "| -\tLasso – estimates sparse coefficients. Useful due to its tendency to prefer solutions with fewer non-zero coefficients, effectively reducing the number of features upon which the given solution is dependent. It is fundamental to the field of compression sensing. It consists of a linear model with an added regularization term. |\n",
    "| -\tLogistic regression – a linear model for classification rather than regression. It is also known as logit regression, maximum-entropy classification (MaxEnt) or the log-linear classifier. In a binary classification problem, what we are interested in is the probability of an outcome occurring. Probability is ranged between 0 and 1, where the probability of something certain to happen is 1, and 0 is something unlikely to happen. |\n",
    "| -\tLinear regression – minimize the residual sum of squares between the observed targets/responses in a dataset and the targets/responses predicted by the linear approximation. Mean squared error and R2 (coefficient of determination) is used to analyze how well the model fits the data. The closer R2 is to 1, the more perfect the prediction. In linear regression, we are predicting an absolute number, which can range outside 0 and 1. | \n",
    "| Univariate Linear Regression - predicting one dependent variable from one independent variable - Not commonly used |\n",
    "| Multiple Linear Regression - predicting one dependent from multiple independent variables. For multiple linear regressions we need to use variables that are uncorrelated with eachother in our equation |\n",
    "| -\tStochastic Gradient Descent (SGD) – simple approach to fit linear models. Particularly useful when the number of samples (and the number of features) is very large. |\n",
    "| -\tPerceptron – simple classification algorithm suitable for large scale learning – does not require a learning rate, is not penalized, and updates its model only on mistakes. |\n",
    "| Support Vector Machines (SVM) – a set of supervised learning methods used for classification, regression and outliers detection. This is used for high level complicated stuff. Goal is to find the line that maximizes the minimum distance to the line. They are effective in high dimensional spaces. It is memory efficient, using a subset of training points in the decision function (called support vectors). SVM constructs a hyper-plane or set of hyper-planes in a high dimensional space. A good separation is achieved by the hyper-plane that has the largest distance to the nearest training data points of any class. The lower the margin, the lower the generalization error of the classifier. Hyperplane: decision boundary. The best hyperplane - maximizea distance from points when drawing the line (larger margin).\n",
    "- Classification – SVC – not practical for large datasets – trying to maximize the margin while incurring a penalty when a sample is misclassified or within the margin boundary. LinearSVC – makes use of hinge loss (used for maximum-margin classification). \n",
    "- Regression – Support Vector Regression (SVR) – method of SVC used to solve regression problems. \n",
    "- In general, the kernel cache size has a strong impact on run times for larger problems.\t\n",
    "- SVM algorithms are not scale invariant so it is highly recommended to scale your data. |\n",
    "| Stochastic Gradient Descent – simple yet efficient approach to fitting linear classifiers and regressors. It can be applied to large-scale and sparse machine learning problems. SGD is an optimization technique and does not correspond to a specific family of machine learning models. It is a way to train a model. It's advantages are efficiency and ease of implementation. Of course, there are disadvantages too – it requires a number of hyperparameters and is sensitive to feature scaling.\n",
    "-\tClassification – SGDClassifier implements a plain stochastic gradient descent learning routine which supports different loss functions and penalties for classification. When trained with the hinge loss, it is equivalent to a linear SVM. SGD has to be fitted with 2 arrays – an array X that holds features of the training samples and an array of y holding the target values for the training samples.\n",
    "-\tRegression – SGDRegressor implements a plain stochastic gradient descent learning routine which supports different loss functions and penalties to fit linear regression models. Well suited for regression problems with a large number of training samples (over 10k).\n",
    "-\tAllows for early stopping based on the prediction score computed on the validation set. Algorithm stops when the criterion does not improve for a pre-defined number of times in a row.\n",
    "-\tData should be scaled first, as SGD is sensitive to feature scaling.\n",
    "-\tSGD converges after observing about 10^6 training samples – number of iterations should be set to np.ceil(10**6 / n) where n is the size of the training set.\n",
    "-\tScale the features by some constant number such that the average L2 norm of the training data equals one if applying SGD to features extracted using PCA. |\n",
    "| Nearest Neighbors – for unsupervised and supervised neighbors-based learning methods. Supervised neighbors-based learning comes in two flavors: classification for data with discrete labels, and regression for data with continuous labels. Successful in a large number of classification and regression problems. KNN - K-Nearest Neighbors - uses the similarity between our data to make classifications (supervised machine learning) or clustering (unsupervised machine learning). With KNN we can have a certain set of data and from it draw patterns that can classify or group our data. It works on the principle that every data point falling near to each other is part of the same class. K is like the peer pressure variable - you do what I do because I am close to you. The response of a data point is determined by looking at its neighbors from the training set. Kind of assumes that similar things exist near each other. Can be used in both classification and regression settings. K represents the hyperparameter which indicates how many data points any new datapoint must listen to in order to decide what class it is in. Tend to use odd numbers to get votes. Go up by 2 with odd numbers. trying to find the ideal number for K - lowest accurate number is what we are after. It is often used as a benchmark for more complex classifiers such as Artificial Neural Networks (ANN) and Support Vector Machines (SVM) | \n",
    "-\tClassification – is a type of instance-based learning or non-generalizing learning: it does not attempt to construct a general internal model, but simply stores instances of the training data. Classification is computed from a simple majority vote of the nearest neighbors of each point: a query point is assigned the data class which has the most representatives within the nearest neighbors of the point.  KNeighborsClassifier implements learning based on the k nearest neighbors of each query point, where k is an integer value specified by the user. The optimal k value is highly data dependent. A larger k suppresses the effects of noise but makes the classification boundaries less distinct.\n",
    "-\tRegression - Neighbors-based regression can be used in cases where the data labels are continuous rather than discrete variables. The label assigned to a query point is computed based on the mean of the labels of its nearest neighbors. KNeighborsRegressor implements learning based on the neighbors within a fixed radius r or the query point, where r is a floating-point value specified by the user. |\n",
    "| Decision Trees – non-parametric supervised learning method used for classification and regression. Each node is a choice between different alternatives. The goal is to create a model that predicts the value of a target variable by learning simple decision rules inferred from the data features. This involves splitting the data up into multiple parts with a list of rules to guide predictions. Advantages include simple to understand and interpret, requires little data prep, and can handle both numerical and categorical data. Disadvantages include creation of over-complex trees that do not generalize the data well (overfitting), instability due to small variations in the data, and the possibility of creating biased trees (be sure to balance the dataset prior to fitting with the decision tree). Main splitting criteria for decision trees are: Gini Impurity and Entropy for classification, Variance and Information Gain for regression. The basic idea behind any decision tree algorithm is as follows: Select the best attribute using one of the splitting criteria to split the records. Make that attribute a decision node and break the dataset into smaller subsets. Start tree building by repeating this process recursively for each child until there are no more remaining attributes. \n",
    "-\tClassification – DecisionTreeClassifier – capable of performing multi-class classification on a dataset. Takes 2 input arrays – X (sparse or dense) holding training samples and y holding the class labels for the training samples. It is capable of both binary classification and multiclass classification.\n",
    "-\tRegression – DecisionTreeRegressor is used for regression problems. Also takes 2 input arrays X and y, but is expected to have floating point values instead of integer values.\n",
    "-\tTend to overfit on data with a large number of features.\n",
    "-\tConsider performing dimensionality reduction beforehand\n",
    "-\tUse max_depth=3 as an initial tree depth to get a feel for how the tree is fitting to your data and then increase the depth.\n",
    "-\tThe number of samples required to populate the tree doubles for each additional level the tree grows to.\n",
    "-\tUse min_samples_split or min_samples_leaf to ensure that multiple samples inform every decision in the tree, by controlling which splits will be considered. A very small number will usually mean the tree will overfit, whereas a large number will prevent the tree from learning the data. Try min_samples_leaf=5 as an initial value.\n",
    "-\tBalance the dataset before training |\n",
    "| Ensemble methods – combining the predictions of several base estimators to improve robustness over a single estimator. Averaging methods (such as bagging, random forest) and boosting methods (such as AdaBoost, Gradient Tree Boosting) are the two families of ensemble methods. Boosting - sequential - method for converting rules of thumb and inclinations into rules for prediction. Reduces bias\n",
    "-   Bootstrapping taking random samples with replacement - resampling - in order to get a synthesized data set\n",
    "-\tBagging methods form a class of algorithms which build several instances based on the original training set and then aggregate together to form a final prediction. Introduces randomization into its construction which reduces the variance of a base estimator. Basically providing a way to reduce overfitting. Bagging works best with strong and complex models, boosting with weak models. Bagging - parallel - bootstrap aggregating - way to decrease the variance by generating additional training data\n",
    "-\tRandom Forest Classifier – algorithm is a perturb-and-combine technique which means a diverse set of classifiers is created by introducing randomness in the classifier construction. Uses a high number of decision trees built out of randomly selected sets of features. Must be fitted with 2 arrays – X (sparse or dense) holding the training samples and y holding the target values (class labels) for the training samples. Random forests achieve a reduced variance by combining diverse trees, sometimes at the cost of a slight increase in bias. Main parameters to adjust is n_estimators and max_features. n_estimators is the number of trees in the forest – larger is better but also takes longer to compute. max_features is the size of the random subsets of features to consider when splitting a node – the lower the number, the greater the reduction in variance but the greater the increase in bias.\n",
    "-\tAdaBoost – the approach here is to fit a sequence of weak learners on repeatedly modified versions of the data. The predictions from all are then combined through a weighted majority vote (sum) to produce the final prediction. This can be used on both classification and regression problems. The main parameters to tune to obtain good results are n_estimators and the complexity of the base estimators (max_depth or minimum required number of samples to consider a split min_samples_split).\n",
    "-\tXGBoost - Gradient Tree Boosting – a generalization of boosting to arbitrary differentiable loss functions. Combining several weak learners to form a stronger one. Can be used for both regression and classification problems. The 2 most important parameters are n_estimators and learning_rate. The number of weak learners is controlled by n_estimators. The learning_rate controls overfitting via shrinkage (ranges from 0.0 to 1.0). GradientBoostingRegressor supports a number of different loss functions – default is squared error.  ROC curve summarize the trade-off between true positives and false positives and are most appropriate for balanced datasets. Precision-recall curve summarizes the trade-off between true positive rates and positive values and are best for imbalanced datasets. |\n",
    "| Neural Networks - Activation functions allow our algorithm to learn more complex patterns in the data. minimize error in hidden layers. deep learning - more than 3 layers in neural network |\n",
    "| - Artificial Neural Network (ANN) - simulate the electrical activity of the brain and nervous system. Processing elements are connect to other processing elements and are typically arranged in a layer, with the output of one layer serving as the input to the next layer/other layers. |\n",
    "\n",
    "\n",
    "| Additional Terms & Thoughts |\n",
    "|:--|\n",
    "| Regression models are evaluated by use of R-Squared (R2), Mean Squared Error (MSE), Root Mean Squared Error (RMSE), Mean Absolute Error (MAE), Residual Standard Error (RSE), Correlation Coefficient, among others. Classification models are evaluated by use of Accuracy Score, Precision, Recall, F1-Score, Confusion Matrix, ROC Curve and AUC Curve. |\n",
    "| R2 - doesn't handle outliers near as well as mse - how close the data is to the regression line or how well the model fits the raw data (0-1) coefficient of determination - higher the better (between 0 and 1) |\n",
    "| MSE - measures the average of the squares of the error - want it as small as possible |\n",
    "| RMSE - measures the average error performed by the model in its predictions |\n",
    "| MAE - measures the prediction error - average absolute difference between observed and predicted outcomes |\n",
    "| RSE - a variant of RMSE adjusted for the number of predictors in the model |\n",
    "| R - also know as the Correlation Coefficient - is the correlation between two variables - higher the better (between 0 and 1) |\n",
    "| Accuracy Score - number of correct predictions/total predictions |\n",
    "| Precision - number of correct positive results divided by the total predicted positive observations |\n",
    "| Recall - number of correct positive results divided by the number of total actual positives |\n",
    "| F1-Score - measure of a test's accuracy that considers both precision and recall to compute the score |\n",
    "| Confusion Matrix - provides a more detailed breakdown of correct and incorrect classifications for each class |\n",
    "| ROC Curve - measure of the usefulness of a test - the greater the area, the more useful the test |\n",
    "| AUC Curve - Area under ROC Curve - measures the ability of a binary classifier to discriminate between positive and negative classes |\n",
    "| Loss function - takes as input the predicted value and the real value and outputs how different they are. Difference between predicted value and the provided target value telling us how far the model is from hitting the expected outcome. |\n",
    "| Types of loss functions:  \n",
    "- Mean Absolute Error Loss\n",
    "- Mean Squared Error Loss\n",
    "- Negative Log-Likelihood Loss\n",
    "- Cross-Entropy Loss\n",
    "- Hinge Embedding Loss\n",
    "- Margin Ranking Loss\n",
    "- Triplet Margin Loss |\n",
    "| Linear regression and logistic regression are designed to answer different questions | \n",
    "| Cross-validation (CV) is used to assess a machine learning model and test its performance (or accuracy). It involves reserving a specific sample of a dataset on which the model isn't trained. Later on, the model is tested on this sample to evaluate it. Cross-validation is used to protect a model from overfitting, especially if the amount of data available is limited. It's also known as rotation estimation or out-of-sample testing and is mainly used in settings where the model's target is prediction. |\n",
    "| GridSearchCV |\n",
    "| Outliers - extreme values that fall outside of the other observations|\n",
    "| Oversampling and Undersampling - when training data is unevenly split, oversampling and undersampling may be needed to balance it out. Unevenly split data happens a lot in research. To handle under-represented populations, use oversampling. This helps when building models where we are tryhing to predict a minority case. Oversampling - creates new synthetic examples in a minority class you're trying to make predictions about. Undersampling - delete or merge examples in a majority class. Not quite as common. |\n",
    "|Underfitting is a situation when your model is too simple for your data. More formally, your hypothesis about data distribution is wrong and too simple — for example, your data is quadratic and your model is linear. This situation is also called high bias. This means that your algorithm can do accurate predictions, but the initial assumption about the data is incorrect. Your model makes accurate, but initially incorrect predictions. In this case, train error is large and val/test error is large too. |\n",
    "|Overfitting is a situation when your model is too complex for your data. More formally, your hypothesis about data distribution is wrong and too complex — for example, your data is linear and your model is high-degree polynomial. This situation is also called high variance. This means that your algorithm can’t do accurate predictions — changing the input data only a little, the model output changes very much. Your model makes not accurate predictions. In this case, train error is very small and val/test error is large. When you find a good model, train error is small (but larger than in the case of overfitting), and val/test error is small too. In the case above, the test error and validation error are approximately the same. This happens when everything is fine, and your train, validation, and test data have the same distributions. If validation and test error are very different, then you need to get more data similar to test data and make sure that you split the data correctly. Ensure you keep out some of the data (split into test and train). |\n",
    "| ROC curve is a graph showing the performance of a classification model at all classification thresholds. A graph that has true positive and false positive rate on it - shows more how our model is performing. An ROC curve plots TPR vs. FPR at different classification thresholds. Lowering the classification threshold classifies more items as positive, thus increasing both False Positives and True Positives. |\n",
    "| AUC provides an aggregate measure of performance across all possible classification thresholds. AUC is scale-invariant. It measures how well predictions are ranked, rather than their absolute values. AUC is classification-threshold-invariant. It measures the quality of the model's predictions irrespective of what classification threshold is chosen. If you want to improve model, can use AUC but should optimize based on recall instead. |\n",
    "| ReLU - if input > 0, return input else, return 0 Convert node input to output - R(z) = max(0, z) |\n",
    "| Forward propagation (basically dot product) - used to calculate predictions and errors |\n",
    "| backward propagation - go back one layer at a time from output to input to see how small changes impact the different between the predicted and actual values - working to minimize the loss function |\n",
    "| Kullback-Leibler divergence - a non-symmetric measure of the difference between two probability distributions. It measures the information lost when one is used to approximate the other. | "
   ]
  },
  {
   "cell_type": "markdown",
   "id": "ab797746",
   "metadata": {},
   "source": [
    "### 2. Do the same as question 1 except for unsupervised learning models. Something that is necessary for many models is determining number, so specify how you determine the number of clusters for example. Apply this concept to any other algorithms it is relevant for. \n",
    "\n"
   ]
  },
  {
   "cell_type": "markdown",
   "id": "17eb830c",
   "metadata": {},
   "source": [
    "| Unsupervised Learning Study Guide |\n",
    "|--|\n",
    "\n",
    "| Thoughts |\n",
    "|:--|\n",
    "| Unsupervised Learning - unlabeled data - extremely mathematical |\n",
    "| Clustering is not just for unsupervised |\n",
    "| K-means - technique used to identify clusers of data objects in a dataset. The algorith starts with some initial estimate of where each of the centroids could be for each cluster. Then the algorithm cycles through a couple of steps until the centroid positinos stop changing. The steps: each point is assigned to a cluster closed to them and then the mean of all data points within that cluster is calculated, becoming the new centroid. Then repeat these steps. |\n",
    "| Determining the best \"k\" value:\n",
    " - inertia - sum of squares (distance) - most commonly used \n",
    " - distortion - average of squared distance\n",
    " - gap method - maximizes the intra-cluster range\n",
    " - average silhouette method - determines how well each point fits in the cluster|\n",
    "| Hierarchical - tree based - creating new clusters using previous clusters. Also, grid-based (separated in grid base and super scalable - highly dimensional data) and density based (dense regions - points are right next to each other) often use different plains. Find the maximum distance in the dendogram - the right number is the number of lines that intersect at the max distance. |\n",
    "| Dimensionality Reduction - way to simplify the model so we pay attention to critical attributes - summarizing a dataset using its common occurring patterns. This helps reduce needed storage, computation time and helps remove redundant features. There are both linear and non-linear ways of doing this - which you choose depends on your data. |\n",
    "| Linear \n",
    "-  Principal component analysis (PCA) - reduce the complexity of problem by reducing the number of attributes to be handled \n",
    "- SVD (singular value decomposition) - sparse data (contains lots of zeroes relative to other values) - similar to PCA but more effective. SVD decomposes a matrix into three other matrices (rotation, scaling, and rotation). It basically allows us to express our original matrix as a linear combination of low-rank matrices\n",
    "- Linear discriminant analysis (LDA) - reduces the number of variables in a dataset while retaining as much information as possible by creating a new axis and projecting data onto the axis to minimize the variance and maximize the distance between the means. |\n",
    "| Non-Linear\n",
    "- Isomap embedding - used for computing a quasi-isometric, low-dimensional embedding of a set of high-dimensional data points. |\n"
   ]
  },
  {
   "cell_type": "markdown",
   "id": "3dff39ad",
   "metadata": {},
   "source": [
    "### 3. Preprocess the customer data https://www.kaggle.com/carrie1/ecommerce-data . "
   ]
  },
  {
   "cell_type": "code",
   "execution_count": 1,
   "id": "35819047",
   "metadata": {},
   "outputs": [],
   "source": [
    "# bring in useful modules\n",
    "\n",
    "import pandas as pd\n",
    "import numpy as np\n",
    "import os\n",
    "import seaborn as sns\n",
    "import matplotlib.pyplot as plt\n",
    "import time\n",
    "from sklearn.preprocessing import StandardScaler, LabelEncoder\n",
    "from sklearn.model_selection import train_test_split\n",
    "from sklearn.linear_model import LinearRegression\n",
    "from sklearn.metrics import mean_squared_error,r2_score\n",
    "from sklearn.impute import SimpleImputer\n",
    "from sklearn.model_selection import cross_val_score\n",
    "from sklearn.preprocessing import PolynomialFeatures\n",
    "import warnings\n",
    "warnings.filterwarnings('ignore')\n",
    "from sklearn import metrics\n",
    "from scipy.spatial.distance import cdist\n",
    "import matplotlib.pyplot as plt"
   ]
  },
  {
   "cell_type": "code",
   "execution_count": 2,
   "id": "959ebec8",
   "metadata": {},
   "outputs": [],
   "source": [
    "ecom_df = pd.read_csv('../data.csv', low_memory=False, encoding='unicode_escape')"
   ]
  },
  {
   "cell_type": "code",
   "execution_count": 3,
   "id": "964de851",
   "metadata": {},
   "outputs": [
    {
     "data": {
      "text/html": [
       "<div>\n",
       "<style scoped>\n",
       "    .dataframe tbody tr th:only-of-type {\n",
       "        vertical-align: middle;\n",
       "    }\n",
       "\n",
       "    .dataframe tbody tr th {\n",
       "        vertical-align: top;\n",
       "    }\n",
       "\n",
       "    .dataframe thead th {\n",
       "        text-align: right;\n",
       "    }\n",
       "</style>\n",
       "<table border=\"1\" class=\"dataframe\">\n",
       "  <thead>\n",
       "    <tr style=\"text-align: right;\">\n",
       "      <th></th>\n",
       "      <th>InvoiceNo</th>\n",
       "      <th>StockCode</th>\n",
       "      <th>Description</th>\n",
       "      <th>Quantity</th>\n",
       "      <th>InvoiceDate</th>\n",
       "      <th>UnitPrice</th>\n",
       "      <th>CustomerID</th>\n",
       "      <th>Country</th>\n",
       "    </tr>\n",
       "  </thead>\n",
       "  <tbody>\n",
       "    <tr>\n",
       "      <th>0</th>\n",
       "      <td>536365</td>\n",
       "      <td>85123A</td>\n",
       "      <td>WHITE HANGING HEART T-LIGHT HOLDER</td>\n",
       "      <td>6</td>\n",
       "      <td>12/1/2010 8:26</td>\n",
       "      <td>2.55</td>\n",
       "      <td>17850.0</td>\n",
       "      <td>United Kingdom</td>\n",
       "    </tr>\n",
       "    <tr>\n",
       "      <th>1</th>\n",
       "      <td>536365</td>\n",
       "      <td>71053</td>\n",
       "      <td>WHITE METAL LANTERN</td>\n",
       "      <td>6</td>\n",
       "      <td>12/1/2010 8:26</td>\n",
       "      <td>3.39</td>\n",
       "      <td>17850.0</td>\n",
       "      <td>United Kingdom</td>\n",
       "    </tr>\n",
       "    <tr>\n",
       "      <th>2</th>\n",
       "      <td>536365</td>\n",
       "      <td>84406B</td>\n",
       "      <td>CREAM CUPID HEARTS COAT HANGER</td>\n",
       "      <td>8</td>\n",
       "      <td>12/1/2010 8:26</td>\n",
       "      <td>2.75</td>\n",
       "      <td>17850.0</td>\n",
       "      <td>United Kingdom</td>\n",
       "    </tr>\n",
       "    <tr>\n",
       "      <th>3</th>\n",
       "      <td>536365</td>\n",
       "      <td>84029G</td>\n",
       "      <td>KNITTED UNION FLAG HOT WATER BOTTLE</td>\n",
       "      <td>6</td>\n",
       "      <td>12/1/2010 8:26</td>\n",
       "      <td>3.39</td>\n",
       "      <td>17850.0</td>\n",
       "      <td>United Kingdom</td>\n",
       "    </tr>\n",
       "    <tr>\n",
       "      <th>4</th>\n",
       "      <td>536365</td>\n",
       "      <td>84029E</td>\n",
       "      <td>RED WOOLLY HOTTIE WHITE HEART.</td>\n",
       "      <td>6</td>\n",
       "      <td>12/1/2010 8:26</td>\n",
       "      <td>3.39</td>\n",
       "      <td>17850.0</td>\n",
       "      <td>United Kingdom</td>\n",
       "    </tr>\n",
       "  </tbody>\n",
       "</table>\n",
       "</div>"
      ],
      "text/plain": [
       "  InvoiceNo StockCode                          Description  Quantity  \\\n",
       "0    536365    85123A   WHITE HANGING HEART T-LIGHT HOLDER         6   \n",
       "1    536365     71053                  WHITE METAL LANTERN         6   \n",
       "2    536365    84406B       CREAM CUPID HEARTS COAT HANGER         8   \n",
       "3    536365    84029G  KNITTED UNION FLAG HOT WATER BOTTLE         6   \n",
       "4    536365    84029E       RED WOOLLY HOTTIE WHITE HEART.         6   \n",
       "\n",
       "      InvoiceDate  UnitPrice  CustomerID         Country  \n",
       "0  12/1/2010 8:26       2.55     17850.0  United Kingdom  \n",
       "1  12/1/2010 8:26       3.39     17850.0  United Kingdom  \n",
       "2  12/1/2010 8:26       2.75     17850.0  United Kingdom  \n",
       "3  12/1/2010 8:26       3.39     17850.0  United Kingdom  \n",
       "4  12/1/2010 8:26       3.39     17850.0  United Kingdom  "
      ]
     },
     "execution_count": 3,
     "metadata": {},
     "output_type": "execute_result"
    }
   ],
   "source": [
    "ecom_df.head()"
   ]
  },
  {
   "cell_type": "markdown",
   "id": "c2871c68",
   "metadata": {},
   "source": [
    "discussion with the class - seems customerID has lots of nulls and prices/quantities has 0 or negative numbers - probably cancelled or returned items. Time to do some analysis on my own."
   ]
  },
  {
   "cell_type": "code",
   "execution_count": 4,
   "id": "262c6b20",
   "metadata": {},
   "outputs": [
    {
     "data": {
      "text/plain": [
       "InvoiceNo           0\n",
       "StockCode           0\n",
       "Description      1454\n",
       "Quantity            0\n",
       "InvoiceDate         0\n",
       "UnitPrice           0\n",
       "CustomerID     135080\n",
       "Country             0\n",
       "dtype: int64"
      ]
     },
     "execution_count": 4,
     "metadata": {},
     "output_type": "execute_result"
    }
   ],
   "source": [
    "ecom_df.isnull().sum()"
   ]
  },
  {
   "cell_type": "code",
   "execution_count": 5,
   "id": "5e462fe0",
   "metadata": {},
   "outputs": [
    {
     "data": {
      "text/plain": [
       "<bound method DataFrame.info of        InvoiceNo StockCode                          Description  Quantity  \\\n",
       "0         536365    85123A   WHITE HANGING HEART T-LIGHT HOLDER         6   \n",
       "1         536365     71053                  WHITE METAL LANTERN         6   \n",
       "2         536365    84406B       CREAM CUPID HEARTS COAT HANGER         8   \n",
       "3         536365    84029G  KNITTED UNION FLAG HOT WATER BOTTLE         6   \n",
       "4         536365    84029E       RED WOOLLY HOTTIE WHITE HEART.         6   \n",
       "...          ...       ...                                  ...       ...   \n",
       "541904    581587     22613          PACK OF 20 SPACEBOY NAPKINS        12   \n",
       "541905    581587     22899         CHILDREN'S APRON DOLLY GIRL          6   \n",
       "541906    581587     23254        CHILDRENS CUTLERY DOLLY GIRL          4   \n",
       "541907    581587     23255      CHILDRENS CUTLERY CIRCUS PARADE         4   \n",
       "541908    581587     22138        BAKING SET 9 PIECE RETROSPOT          3   \n",
       "\n",
       "            InvoiceDate  UnitPrice  CustomerID         Country  \n",
       "0        12/1/2010 8:26       2.55     17850.0  United Kingdom  \n",
       "1        12/1/2010 8:26       3.39     17850.0  United Kingdom  \n",
       "2        12/1/2010 8:26       2.75     17850.0  United Kingdom  \n",
       "3        12/1/2010 8:26       3.39     17850.0  United Kingdom  \n",
       "4        12/1/2010 8:26       3.39     17850.0  United Kingdom  \n",
       "...                 ...        ...         ...             ...  \n",
       "541904  12/9/2011 12:50       0.85     12680.0          France  \n",
       "541905  12/9/2011 12:50       2.10     12680.0          France  \n",
       "541906  12/9/2011 12:50       4.15     12680.0          France  \n",
       "541907  12/9/2011 12:50       4.15     12680.0          France  \n",
       "541908  12/9/2011 12:50       4.95     12680.0          France  \n",
       "\n",
       "[541909 rows x 8 columns]>"
      ]
     },
     "execution_count": 5,
     "metadata": {},
     "output_type": "execute_result"
    }
   ],
   "source": [
    "ecom_df.info"
   ]
  },
  {
   "cell_type": "markdown",
   "id": "3fd2982d",
   "metadata": {},
   "source": [
    "Planning to drop the rows with null CustomerID as that seems to be a key item that is needed"
   ]
  },
  {
   "cell_type": "code",
   "execution_count": 6,
   "id": "3ce3acf1",
   "metadata": {},
   "outputs": [],
   "source": [
    "ecom_df.dropna(subset=['CustomerID'], inplace=True)"
   ]
  },
  {
   "cell_type": "code",
   "execution_count": 7,
   "id": "035b1325",
   "metadata": {},
   "outputs": [
    {
     "data": {
      "text/plain": [
       "InvoiceNo      0\n",
       "StockCode      0\n",
       "Description    0\n",
       "Quantity       0\n",
       "InvoiceDate    0\n",
       "UnitPrice      0\n",
       "CustomerID     0\n",
       "Country        0\n",
       "dtype: int64"
      ]
     },
     "execution_count": 7,
     "metadata": {},
     "output_type": "execute_result"
    }
   ],
   "source": [
    "ecom_df.isnull().sum() # dropping the nulls from the CustomerID column also removed the rows that had nulls in Description"
   ]
  },
  {
   "cell_type": "code",
   "execution_count": 8,
   "id": "aec73582",
   "metadata": {},
   "outputs": [
    {
     "data": {
      "text/plain": [
       "(406829, 8)"
      ]
     },
     "execution_count": 8,
     "metadata": {},
     "output_type": "execute_result"
    }
   ],
   "source": [
    "ecom_df.shape # now there are 406,829 rows"
   ]
  },
  {
   "cell_type": "code",
   "execution_count": 9,
   "id": "2612bfe7",
   "metadata": {},
   "outputs": [
    {
     "name": "stdout",
     "output_type": "stream",
     "text": [
      "<class 'pandas.core.frame.DataFrame'>\n",
      "Int64Index: 406829 entries, 0 to 541908\n",
      "Data columns (total 8 columns):\n",
      " #   Column       Non-Null Count   Dtype  \n",
      "---  ------       --------------   -----  \n",
      " 0   InvoiceNo    406829 non-null  object \n",
      " 1   StockCode    406829 non-null  object \n",
      " 2   Description  406829 non-null  object \n",
      " 3   Quantity     406829 non-null  int64  \n",
      " 4   InvoiceDate  406829 non-null  object \n",
      " 5   UnitPrice    406829 non-null  float64\n",
      " 6   CustomerID   406829 non-null  float64\n",
      " 7   Country      406829 non-null  object \n",
      "dtypes: float64(2), int64(1), object(5)\n",
      "memory usage: 27.9+ MB\n"
     ]
    }
   ],
   "source": [
    "ecom_df.info() #5 columns are objects, 2 floats, and 1 int"
   ]
  },
  {
   "cell_type": "code",
   "execution_count": 10,
   "id": "6b5b95db",
   "metadata": {},
   "outputs": [
    {
     "data": {
      "text/html": [
       "<div>\n",
       "<style scoped>\n",
       "    .dataframe tbody tr th:only-of-type {\n",
       "        vertical-align: middle;\n",
       "    }\n",
       "\n",
       "    .dataframe tbody tr th {\n",
       "        vertical-align: top;\n",
       "    }\n",
       "\n",
       "    .dataframe thead th {\n",
       "        text-align: right;\n",
       "    }\n",
       "</style>\n",
       "<table border=\"1\" class=\"dataframe\">\n",
       "  <thead>\n",
       "    <tr style=\"text-align: right;\">\n",
       "      <th></th>\n",
       "      <th>Quantity</th>\n",
       "      <th>UnitPrice</th>\n",
       "      <th>CustomerID</th>\n",
       "    </tr>\n",
       "  </thead>\n",
       "  <tbody>\n",
       "    <tr>\n",
       "      <th>count</th>\n",
       "      <td>406829.000000</td>\n",
       "      <td>406829.000000</td>\n",
       "      <td>406829.000000</td>\n",
       "    </tr>\n",
       "    <tr>\n",
       "      <th>mean</th>\n",
       "      <td>12.061303</td>\n",
       "      <td>3.460471</td>\n",
       "      <td>15287.690570</td>\n",
       "    </tr>\n",
       "    <tr>\n",
       "      <th>std</th>\n",
       "      <td>248.693370</td>\n",
       "      <td>69.315162</td>\n",
       "      <td>1713.600303</td>\n",
       "    </tr>\n",
       "    <tr>\n",
       "      <th>min</th>\n",
       "      <td>-80995.000000</td>\n",
       "      <td>0.000000</td>\n",
       "      <td>12346.000000</td>\n",
       "    </tr>\n",
       "    <tr>\n",
       "      <th>25%</th>\n",
       "      <td>2.000000</td>\n",
       "      <td>1.250000</td>\n",
       "      <td>13953.000000</td>\n",
       "    </tr>\n",
       "    <tr>\n",
       "      <th>50%</th>\n",
       "      <td>5.000000</td>\n",
       "      <td>1.950000</td>\n",
       "      <td>15152.000000</td>\n",
       "    </tr>\n",
       "    <tr>\n",
       "      <th>75%</th>\n",
       "      <td>12.000000</td>\n",
       "      <td>3.750000</td>\n",
       "      <td>16791.000000</td>\n",
       "    </tr>\n",
       "    <tr>\n",
       "      <th>max</th>\n",
       "      <td>80995.000000</td>\n",
       "      <td>38970.000000</td>\n",
       "      <td>18287.000000</td>\n",
       "    </tr>\n",
       "  </tbody>\n",
       "</table>\n",
       "</div>"
      ],
      "text/plain": [
       "            Quantity      UnitPrice     CustomerID\n",
       "count  406829.000000  406829.000000  406829.000000\n",
       "mean       12.061303       3.460471   15287.690570\n",
       "std       248.693370      69.315162    1713.600303\n",
       "min    -80995.000000       0.000000   12346.000000\n",
       "25%         2.000000       1.250000   13953.000000\n",
       "50%         5.000000       1.950000   15152.000000\n",
       "75%        12.000000       3.750000   16791.000000\n",
       "max     80995.000000   38970.000000   18287.000000"
      ]
     },
     "execution_count": 10,
     "metadata": {},
     "output_type": "execute_result"
    }
   ],
   "source": [
    "ecom_df.describe()\n"
   ]
  },
  {
   "cell_type": "code",
   "execution_count": 11,
   "id": "37a7e392",
   "metadata": {},
   "outputs": [
    {
     "data": {
      "image/png": "[encoded data removed]",
      "text/plain": [
       "<Figure size 432x288 with 1 Axes>"
      ]
     },
     "metadata": {
      "needs_background": "light"
     },
     "output_type": "display_data"
    }
   ],
   "source": [
    "#Need to see if there are outliers as the minimum Quantity is a large negative number\n",
    "sns.boxplot(data=ecom_df,x=ecom_df[\"Quantity\"])\n",
    "plt.title(\"Boxplot of Quantity \")\n",
    "plt.show()"
   ]
  },
  {
   "cell_type": "code",
   "execution_count": 12,
   "id": "fe0ceed9",
   "metadata": {},
   "outputs": [
    {
     "name": "stdout",
     "output_type": "stream",
     "text": [
      "(array([ 38120, 406349], dtype=int64),)\n",
      "(array([ 38125, 406350], dtype=int64),)\n"
     ]
    }
   ],
   "source": [
    "# looks like Quantity outliers are above 20000 and below -20000\n",
    "# Position of the Outliers\n",
    "print(np.where(ecom_df['Quantity'] > 20000))\n",
    "print(np.where(ecom_df['Quantity'] < -20000))\n"
   ]
  },
  {
   "cell_type": "markdown",
   "id": "e642ba61",
   "metadata": {},
   "source": [
    "Go ahead and drop the 4 rows that appear to be outliers"
   ]
  },
  {
   "cell_type": "code",
   "execution_count": 13,
   "id": "3a89fbf1",
   "metadata": {},
   "outputs": [],
   "source": [
    "ecom_df = ecom_df[ecom_df['Quantity'] < 20000]\n",
    "ecom_df = ecom_df[ecom_df['Quantity'] > -20000]"
   ]
  },
  {
   "cell_type": "code",
   "execution_count": 14,
   "id": "3306e906",
   "metadata": {},
   "outputs": [
    {
     "data": {
      "image/png": "[encoded data removed]",
      "text/plain": [
       "<Figure size 432x288 with 1 Axes>"
      ]
     },
     "metadata": {
      "needs_background": "light"
     },
     "output_type": "display_data"
    }
   ],
   "source": [
    "# show the box plot again to see if outliers still exist\n",
    "sns.boxplot(data=ecom_df,x=ecom_df[\"Quantity\"])\n",
    "plt.title(\"Boxplot of Quantity \")\n",
    "plt.show()"
   ]
  },
  {
   "cell_type": "markdown",
   "id": "538b6161",
   "metadata": {},
   "source": [
    "After dropping those outliers < -20000 and > 20000, it looks like more should be dropped."
   ]
  },
  {
   "cell_type": "code",
   "execution_count": 15,
   "id": "c4f43623",
   "metadata": {},
   "outputs": [],
   "source": [
    "# trying a differnt way to find the outliers than just visually looking at the boxplot\n",
    "def detect_outlier(data):\n",
    "    count=0\n",
    "    # find q1 and q3 values\n",
    "    q1, q3 = np.percentile(sorted(data), [25, 75])\n",
    " \n",
    "    # compute IRQ\n",
    "    iqr = q3 - q1\n",
    " \n",
    "    # find lower and upper bounds\n",
    "    lower_bound = q1 - (1.5 * iqr)\n",
    "    upper_bound = q3 + (1.5 * iqr)\n",
    "    print(lower_bound)\n",
    "    print(upper_bound)\n",
    "    outliers = [x for x in data if x <= lower_bound or x >= upper_bound]\n",
    "    for x in data:\n",
    "        if x <= lower_bound or x >= upper_bound:\n",
    "            count +=1\n",
    "    #return outliers\n",
    "    return count"
   ]
  },
  {
   "cell_type": "code",
   "execution_count": 16,
   "id": "b44410f8",
   "metadata": {},
   "outputs": [
    {
     "name": "stdout",
     "output_type": "stream",
     "text": [
      "-13.0\n",
      "27.0\n"
     ]
    },
    {
     "data": {
      "text/plain": [
       "26741"
      ]
     },
     "execution_count": 16,
     "metadata": {},
     "output_type": "execute_result"
    }
   ],
   "source": [
    "detect_outlier((ecom_df['Quantity']))"
   ]
  },
  {
   "cell_type": "code",
   "execution_count": 17,
   "id": "3f657291",
   "metadata": {},
   "outputs": [],
   "source": [
    "# now that I have the values of the lower and upper bounds by running the detect_outlier function, I can drop the rows\n",
    "# with Quantity less than -13 and greater than 27.\n",
    "ecom_df = ecom_df[ecom_df['Quantity'] <= 27]\n",
    "ecom_df = ecom_df[ecom_df['Quantity'] >= -13]"
   ]
  },
  {
   "cell_type": "code",
   "execution_count": 18,
   "id": "1a533a70",
   "metadata": {},
   "outputs": [
    {
     "data": {
      "text/html": [
       "<div>\n",
       "<style scoped>\n",
       "    .dataframe tbody tr th:only-of-type {\n",
       "        vertical-align: middle;\n",
       "    }\n",
       "\n",
       "    .dataframe tbody tr th {\n",
       "        vertical-align: top;\n",
       "    }\n",
       "\n",
       "    .dataframe thead th {\n",
       "        text-align: right;\n",
       "    }\n",
       "</style>\n",
       "<table border=\"1\" class=\"dataframe\">\n",
       "  <thead>\n",
       "    <tr style=\"text-align: right;\">\n",
       "      <th></th>\n",
       "      <th>Quantity</th>\n",
       "      <th>UnitPrice</th>\n",
       "      <th>CustomerID</th>\n",
       "    </tr>\n",
       "  </thead>\n",
       "  <tbody>\n",
       "    <tr>\n",
       "      <th>count</th>\n",
       "      <td>380147.000000</td>\n",
       "      <td>380147.000000</td>\n",
       "      <td>380147.000000</td>\n",
       "    </tr>\n",
       "    <tr>\n",
       "      <th>mean</th>\n",
       "      <td>6.819738</td>\n",
       "      <td>3.598045</td>\n",
       "      <td>15302.753998</td>\n",
       "    </tr>\n",
       "    <tr>\n",
       "      <th>std</th>\n",
       "      <td>6.764910</td>\n",
       "      <td>71.695693</td>\n",
       "      <td>1712.287265</td>\n",
       "    </tr>\n",
       "    <tr>\n",
       "      <th>min</th>\n",
       "      <td>-13.000000</td>\n",
       "      <td>0.000000</td>\n",
       "      <td>12347.000000</td>\n",
       "    </tr>\n",
       "    <tr>\n",
       "      <th>25%</th>\n",
       "      <td>2.000000</td>\n",
       "      <td>1.250000</td>\n",
       "      <td>13975.000000</td>\n",
       "    </tr>\n",
       "    <tr>\n",
       "      <th>50%</th>\n",
       "      <td>4.000000</td>\n",
       "      <td>1.950000</td>\n",
       "      <td>15187.000000</td>\n",
       "    </tr>\n",
       "    <tr>\n",
       "      <th>75%</th>\n",
       "      <td>12.000000</td>\n",
       "      <td>3.750000</td>\n",
       "      <td>16806.000000</td>\n",
       "    </tr>\n",
       "    <tr>\n",
       "      <th>max</th>\n",
       "      <td>27.000000</td>\n",
       "      <td>38970.000000</td>\n",
       "      <td>18287.000000</td>\n",
       "    </tr>\n",
       "  </tbody>\n",
       "</table>\n",
       "</div>"
      ],
      "text/plain": [
       "            Quantity      UnitPrice     CustomerID\n",
       "count  380147.000000  380147.000000  380147.000000\n",
       "mean        6.819738       3.598045   15302.753998\n",
       "std         6.764910      71.695693    1712.287265\n",
       "min       -13.000000       0.000000   12347.000000\n",
       "25%         2.000000       1.250000   13975.000000\n",
       "50%         4.000000       1.950000   15187.000000\n",
       "75%        12.000000       3.750000   16806.000000\n",
       "max        27.000000   38970.000000   18287.000000"
      ]
     },
     "execution_count": 18,
     "metadata": {},
     "output_type": "execute_result"
    }
   ],
   "source": [
    "ecom_df.describe()"
   ]
  },
  {
   "cell_type": "code",
   "execution_count": 19,
   "id": "54617fe9",
   "metadata": {},
   "outputs": [
    {
     "data": {
      "image/png": "[encoded data removed]",
      "text/plain": [
       "<Figure size 432x288 with 1 Axes>"
      ]
     },
     "metadata": {
      "needs_background": "light"
     },
     "output_type": "display_data"
    }
   ],
   "source": [
    "sns.boxplot(data=ecom_df,x=ecom_df[\"Quantity\"])\n",
    "plt.title(\"Boxplot of Quantity \")\n",
    "plt.show()"
   ]
  },
  {
   "cell_type": "markdown",
   "id": "aeb2884f",
   "metadata": {},
   "source": [
    "InvoiceNo, StockCode, Description, InvoiceDate and Country are objects.\n",
    "\n",
    "Look at InvoiceDate first as this should be able to be converted to a Date field."
   ]
  },
  {
   "cell_type": "code",
   "execution_count": 20,
   "id": "9f13e02d",
   "metadata": {},
   "outputs": [
    {
     "data": {
      "text/plain": [
       "11/14/2011 15:27    536\n",
       "11/28/2011 15:54    525\n",
       "12/5/2011 17:17     524\n",
       "11/23/2011 13:39    437\n",
       "10/31/2011 14:09    435\n",
       "                   ... \n",
       "1/18/2011 11:54       1\n",
       "10/4/2011 17:22       1\n",
       "3/17/2011 18:20       1\n",
       "11/11/2011 10:55      1\n",
       "3/23/2011 9:02        1\n",
       "Name: InvoiceDate, Length: 19156, dtype: int64"
      ]
     },
     "execution_count": 20,
     "metadata": {},
     "output_type": "execute_result"
    }
   ],
   "source": [
    "ecom_df['InvoiceDate'].value_counts()"
   ]
  },
  {
   "cell_type": "code",
   "execution_count": 21,
   "id": "90120932",
   "metadata": {},
   "outputs": [],
   "source": [
    "ecom_df['InvoiceDate'] = pd.to_datetime(ecom_df['InvoiceDate'], format='%m/%d/%Y %H:%M')"
   ]
  },
  {
   "cell_type": "markdown",
   "id": "e1aad59c",
   "metadata": {},
   "source": [
    "Need to take a closer look at InvoiceNo next"
   ]
  },
  {
   "cell_type": "code",
   "execution_count": 22,
   "id": "98cc50b0",
   "metadata": {},
   "outputs": [
    {
     "data": {
      "text/plain": [
       "576339     535\n",
       "579196     524\n",
       "580727     523\n",
       "578270     435\n",
       "573576     434\n",
       "          ... \n",
       "545336       1\n",
       "C570291      1\n",
       "C545330      1\n",
       "C576576      1\n",
       "C564971      1\n",
       "Name: InvoiceNo, Length: 20665, dtype: int64"
      ]
     },
     "execution_count": 22,
     "metadata": {},
     "output_type": "execute_result"
    }
   ],
   "source": [
    "ecom_df['InvoiceNo'].value_counts()"
   ]
  },
  {
   "cell_type": "markdown",
   "id": "65575bbe",
   "metadata": {},
   "source": [
    "don't know what the 'C' in front means but am going to remove the 'C' using replace. Then will be able to change this to an int field."
   ]
  },
  {
   "cell_type": "code",
   "execution_count": 23,
   "id": "c467c77a",
   "metadata": {},
   "outputs": [],
   "source": [
    "ecom_df['InvoiceNo'] = ecom_df['InvoiceNo'].str.replace(\"C\",\"\")\n"
   ]
  },
  {
   "cell_type": "code",
   "execution_count": 24,
   "id": "d9c748f2",
   "metadata": {},
   "outputs": [],
   "source": [
    "ecom_df['InvoiceNo'] = ecom_df['InvoiceNo'].astype(int)"
   ]
  },
  {
   "cell_type": "code",
   "execution_count": 25,
   "id": "41756246",
   "metadata": {},
   "outputs": [],
   "source": [
    "ecom_df['CustomerID'] = ecom_df['CustomerID'].astype(int)"
   ]
  },
  {
   "cell_type": "code",
   "execution_count": 26,
   "id": "fd823805",
   "metadata": {},
   "outputs": [
    {
     "name": "stdout",
     "output_type": "stream",
     "text": [
      "<class 'pandas.core.frame.DataFrame'>\n",
      "Int64Index: 380147 entries, 0 to 541908\n",
      "Data columns (total 8 columns):\n",
      " #   Column       Non-Null Count   Dtype         \n",
      "---  ------       --------------   -----         \n",
      " 0   InvoiceNo    380147 non-null  int32         \n",
      " 1   StockCode    380147 non-null  object        \n",
      " 2   Description  380147 non-null  object        \n",
      " 3   Quantity     380147 non-null  int64         \n",
      " 4   InvoiceDate  380147 non-null  datetime64[ns]\n",
      " 5   UnitPrice    380147 non-null  float64       \n",
      " 6   CustomerID   380147 non-null  int32         \n",
      " 7   Country      380147 non-null  object        \n",
      "dtypes: datetime64[ns](1), float64(1), int32(2), int64(1), object(3)\n",
      "memory usage: 23.2+ MB\n"
     ]
    }
   ],
   "source": [
    "ecom_df.info()"
   ]
  },
  {
   "cell_type": "code",
   "execution_count": 27,
   "id": "586b4595",
   "metadata": {},
   "outputs": [],
   "source": [
    "ecom_df['AmtSpent'] = ecom_df['UnitPrice'] * ecom_df['Quantity']"
   ]
  },
  {
   "cell_type": "markdown",
   "id": "0f735cb4",
   "metadata": {},
   "source": [
    "Now that I've calculated the amount spent per row in the dataframe, I can drop UnitPrice and Quantity"
   ]
  },
  {
   "cell_type": "code",
   "execution_count": 28,
   "id": "bbc2ccdd",
   "metadata": {},
   "outputs": [],
   "source": [
    "ecom_df.drop(['UnitPrice', 'Quantity'], axis='columns', inplace=True)"
   ]
  },
  {
   "cell_type": "code",
   "execution_count": 29,
   "id": "447b4519",
   "metadata": {},
   "outputs": [
    {
     "data": {
      "text/html": [
       "<div>\n",
       "<style scoped>\n",
       "    .dataframe tbody tr th:only-of-type {\n",
       "        vertical-align: middle;\n",
       "    }\n",
       "\n",
       "    .dataframe tbody tr th {\n",
       "        vertical-align: top;\n",
       "    }\n",
       "\n",
       "    .dataframe thead th {\n",
       "        text-align: right;\n",
       "    }\n",
       "</style>\n",
       "<table border=\"1\" class=\"dataframe\">\n",
       "  <thead>\n",
       "    <tr style=\"text-align: right;\">\n",
       "      <th></th>\n",
       "      <th>InvoiceNo</th>\n",
       "      <th>StockCode</th>\n",
       "      <th>Description</th>\n",
       "      <th>InvoiceDate</th>\n",
       "      <th>CustomerID</th>\n",
       "      <th>Country</th>\n",
       "      <th>AmtSpent</th>\n",
       "    </tr>\n",
       "  </thead>\n",
       "  <tbody>\n",
       "    <tr>\n",
       "      <th>0</th>\n",
       "      <td>536365</td>\n",
       "      <td>85123A</td>\n",
       "      <td>WHITE HANGING HEART T-LIGHT HOLDER</td>\n",
       "      <td>2010-12-01 08:26:00</td>\n",
       "      <td>17850</td>\n",
       "      <td>United Kingdom</td>\n",
       "      <td>15.30</td>\n",
       "    </tr>\n",
       "    <tr>\n",
       "      <th>1</th>\n",
       "      <td>536365</td>\n",
       "      <td>71053</td>\n",
       "      <td>WHITE METAL LANTERN</td>\n",
       "      <td>2010-12-01 08:26:00</td>\n",
       "      <td>17850</td>\n",
       "      <td>United Kingdom</td>\n",
       "      <td>20.34</td>\n",
       "    </tr>\n",
       "    <tr>\n",
       "      <th>2</th>\n",
       "      <td>536365</td>\n",
       "      <td>84406B</td>\n",
       "      <td>CREAM CUPID HEARTS COAT HANGER</td>\n",
       "      <td>2010-12-01 08:26:00</td>\n",
       "      <td>17850</td>\n",
       "      <td>United Kingdom</td>\n",
       "      <td>22.00</td>\n",
       "    </tr>\n",
       "    <tr>\n",
       "      <th>3</th>\n",
       "      <td>536365</td>\n",
       "      <td>84029G</td>\n",
       "      <td>KNITTED UNION FLAG HOT WATER BOTTLE</td>\n",
       "      <td>2010-12-01 08:26:00</td>\n",
       "      <td>17850</td>\n",
       "      <td>United Kingdom</td>\n",
       "      <td>20.34</td>\n",
       "    </tr>\n",
       "    <tr>\n",
       "      <th>4</th>\n",
       "      <td>536365</td>\n",
       "      <td>84029E</td>\n",
       "      <td>RED WOOLLY HOTTIE WHITE HEART.</td>\n",
       "      <td>2010-12-01 08:26:00</td>\n",
       "      <td>17850</td>\n",
       "      <td>United Kingdom</td>\n",
       "      <td>20.34</td>\n",
       "    </tr>\n",
       "  </tbody>\n",
       "</table>\n",
       "</div>"
      ],
      "text/plain": [
       "   InvoiceNo StockCode                          Description  \\\n",
       "0     536365    85123A   WHITE HANGING HEART T-LIGHT HOLDER   \n",
       "1     536365     71053                  WHITE METAL LANTERN   \n",
       "2     536365    84406B       CREAM CUPID HEARTS COAT HANGER   \n",
       "3     536365    84029G  KNITTED UNION FLAG HOT WATER BOTTLE   \n",
       "4     536365    84029E       RED WOOLLY HOTTIE WHITE HEART.   \n",
       "\n",
       "          InvoiceDate  CustomerID         Country  AmtSpent  \n",
       "0 2010-12-01 08:26:00       17850  United Kingdom     15.30  \n",
       "1 2010-12-01 08:26:00       17850  United Kingdom     20.34  \n",
       "2 2010-12-01 08:26:00       17850  United Kingdom     22.00  \n",
       "3 2010-12-01 08:26:00       17850  United Kingdom     20.34  \n",
       "4 2010-12-01 08:26:00       17850  United Kingdom     20.34  "
      ]
     },
     "execution_count": 29,
     "metadata": {},
     "output_type": "execute_result"
    }
   ],
   "source": [
    "ecom_df.head()"
   ]
  },
  {
   "cell_type": "markdown",
   "id": "0dc64ae8",
   "metadata": {},
   "source": [
    "StockCode and Country next"
   ]
  },
  {
   "cell_type": "code",
   "execution_count": 30,
   "id": "d15cf9b2",
   "metadata": {},
   "outputs": [
    {
     "data": {
      "text/plain": [
       "22423     1806\n",
       "85123A    1724\n",
       "85099B    1365\n",
       "47566     1293\n",
       "20725     1244\n",
       "          ... \n",
       "21144        1\n",
       "90135        1\n",
       "90138        1\n",
       "90129E       1\n",
       "90046        1\n",
       "Name: StockCode, Length: 3665, dtype: int64"
      ]
     },
     "execution_count": 30,
     "metadata": {},
     "output_type": "execute_result"
    }
   ],
   "source": [
    "ecom_df['StockCode'].value_counts()"
   ]
  },
  {
   "cell_type": "code",
   "execution_count": 31,
   "id": "c3f44f99",
   "metadata": {},
   "outputs": [
    {
     "data": {
      "text/plain": [
       "REGENCY CAKESTAND 3 TIER              1806\n",
       "WHITE HANGING HEART T-LIGHT HOLDER    1718\n",
       "JUMBO BAG RED RETROSPOT               1365\n",
       "PARTY BUNTING                         1293\n",
       "LUNCH BAG RED RETROSPOT               1244\n",
       "                                      ... \n",
       "BLACKCHRISTMAS TREE 30CM                 1\n",
       "DUSTY PINK CHRISTMAS TREE 30CM           1\n",
       "WRAP BLUE RUSSIAN FOLKART                1\n",
       " I LOVE LONDON MINI RUCKSACK             1\n",
       "FIRE POLISHED GLASS BRACELET RED         1\n",
       "Name: Description, Length: 3871, dtype: int64"
      ]
     },
     "execution_count": 31,
     "metadata": {},
     "output_type": "execute_result"
    }
   ],
   "source": [
    "ecom_df['Description'].value_counts()"
   ]
  },
  {
   "cell_type": "markdown",
   "id": "901d78ce",
   "metadata": {},
   "source": [
    "Looks like possibly have leading spaces so stripping leading and trailing spaces using strip()"
   ]
  },
  {
   "cell_type": "code",
   "execution_count": 32,
   "id": "54e3a5d1",
   "metadata": {},
   "outputs": [],
   "source": [
    "ecom_df['Description'] = ecom_df['Description'].str.strip()"
   ]
  },
  {
   "cell_type": "code",
   "execution_count": 33,
   "id": "10f34b78",
   "metadata": {},
   "outputs": [
    {
     "data": {
      "text/plain": [
       "REGENCY CAKESTAND 3 TIER              1806\n",
       "WHITE HANGING HEART T-LIGHT HOLDER    1718\n",
       "JUMBO BAG RED RETROSPOT               1365\n",
       "PARTY BUNTING                         1293\n",
       "LUNCH BAG RED RETROSPOT               1244\n",
       "                                      ... \n",
       "BLACK DIAMOND CLUSTER NECKLACE           1\n",
       "WHITE ROSEBUD & PEARL NECKLACE           1\n",
       "BLACK FINE BEAD NECKLACE W TASSEL        1\n",
       "DOTCOMGIFTSHOP TEA TOWEL                 1\n",
       "PINK PAINTED KASHMIRI CHAIR              1\n",
       "Name: Description, Length: 3860, dtype: int64"
      ]
     },
     "execution_count": 33,
     "metadata": {},
     "output_type": "execute_result"
    }
   ],
   "source": [
    "ecom_df['Description'].value_counts()"
   ]
  },
  {
   "cell_type": "code",
   "execution_count": 34,
   "id": "c8d53551",
   "metadata": {},
   "outputs": [
    {
     "data": {
      "text/plain": [
       "United Kingdom          340757\n",
       "Germany                   8959\n",
       "France                    7970\n",
       "EIRE                      6602\n",
       "Spain                     2413\n",
       "Belgium                   1992\n",
       "Switzerland               1682\n",
       "Portugal                  1398\n",
       "Norway                     928\n",
       "Netherlands                791\n",
       "Italy                      781\n",
       "Channel Islands            727\n",
       "Australia                  645\n",
       "Finland                    630\n",
       "Cyprus                     588\n",
       "Austria                    389\n",
       "Denmark                    333\n",
       "Poland                     325\n",
       "Sweden                     289\n",
       "USA                        250\n",
       "Unspecified                242\n",
       "Israel                     218\n",
       "Singapore                  178\n",
       "Iceland                    173\n",
       "Japan                      147\n",
       "Greece                     143\n",
       "Canada                     138\n",
       "Malta                      125\n",
       "United Arab Emirates        64\n",
       "European Community          61\n",
       "RSA                         58\n",
       "Lebanon                     45\n",
       "Brazil                      32\n",
       "Lithuania                   29\n",
       "Czech Republic              20\n",
       "Bahrain                     15\n",
       "Saudi Arabia                10\n",
       "Name: Country, dtype: int64"
      ]
     },
     "execution_count": 34,
     "metadata": {},
     "output_type": "execute_result"
    }
   ],
   "source": [
    "ecom_df['Country'].value_counts()"
   ]
  },
  {
   "cell_type": "code",
   "execution_count": 35,
   "id": "6b8fbd3c",
   "metadata": {},
   "outputs": [],
   "source": [
    "unspe_df = ecom_df[ecom_df['Country']=='Unspecified']"
   ]
  },
  {
   "cell_type": "code",
   "execution_count": 36,
   "id": "3d125964",
   "metadata": {},
   "outputs": [
    {
     "data": {
      "text/html": [
       "<div>\n",
       "<style scoped>\n",
       "    .dataframe tbody tr th:only-of-type {\n",
       "        vertical-align: middle;\n",
       "    }\n",
       "\n",
       "    .dataframe tbody tr th {\n",
       "        vertical-align: top;\n",
       "    }\n",
       "\n",
       "    .dataframe thead th {\n",
       "        text-align: right;\n",
       "    }\n",
       "</style>\n",
       "<table border=\"1\" class=\"dataframe\">\n",
       "  <thead>\n",
       "    <tr style=\"text-align: right;\">\n",
       "      <th></th>\n",
       "      <th>InvoiceNo</th>\n",
       "      <th>StockCode</th>\n",
       "      <th>Description</th>\n",
       "      <th>InvoiceDate</th>\n",
       "      <th>CustomerID</th>\n",
       "      <th>Country</th>\n",
       "      <th>AmtSpent</th>\n",
       "    </tr>\n",
       "  </thead>\n",
       "  <tbody>\n",
       "    <tr>\n",
       "      <th>152712</th>\n",
       "      <td>549687</td>\n",
       "      <td>20685</td>\n",
       "      <td>DOORMAT RED RETROSPOT</td>\n",
       "      <td>2011-04-11 13:29:00</td>\n",
       "      <td>12363</td>\n",
       "      <td>Unspecified</td>\n",
       "      <td>15.9</td>\n",
       "    </tr>\n",
       "    <tr>\n",
       "      <th>152713</th>\n",
       "      <td>549687</td>\n",
       "      <td>22691</td>\n",
       "      <td>DOORMAT WELCOME SUNRISE</td>\n",
       "      <td>2011-04-11 13:29:00</td>\n",
       "      <td>12363</td>\n",
       "      <td>Unspecified</td>\n",
       "      <td>15.9</td>\n",
       "    </tr>\n",
       "    <tr>\n",
       "      <th>152714</th>\n",
       "      <td>549687</td>\n",
       "      <td>48116</td>\n",
       "      <td>DOORMAT MULTICOLOUR STRIPE</td>\n",
       "      <td>2011-04-11 13:29:00</td>\n",
       "      <td>12363</td>\n",
       "      <td>Unspecified</td>\n",
       "      <td>15.9</td>\n",
       "    </tr>\n",
       "    <tr>\n",
       "      <th>152715</th>\n",
       "      <td>549687</td>\n",
       "      <td>21213</td>\n",
       "      <td>PACK OF 72 SKULL CAKE CASES</td>\n",
       "      <td>2011-04-11 13:29:00</td>\n",
       "      <td>12363</td>\n",
       "      <td>Unspecified</td>\n",
       "      <td>13.2</td>\n",
       "    </tr>\n",
       "    <tr>\n",
       "      <th>152716</th>\n",
       "      <td>549687</td>\n",
       "      <td>21977</td>\n",
       "      <td>PACK OF 60 PINK PAISLEY CAKE CASES</td>\n",
       "      <td>2011-04-11 13:29:00</td>\n",
       "      <td>12363</td>\n",
       "      <td>Unspecified</td>\n",
       "      <td>13.2</td>\n",
       "    </tr>\n",
       "  </tbody>\n",
       "</table>\n",
       "</div>"
      ],
      "text/plain": [
       "        InvoiceNo StockCode                         Description  \\\n",
       "152712     549687     20685               DOORMAT RED RETROSPOT   \n",
       "152713     549687     22691             DOORMAT WELCOME SUNRISE   \n",
       "152714     549687     48116          DOORMAT MULTICOLOUR STRIPE   \n",
       "152715     549687     21213         PACK OF 72 SKULL CAKE CASES   \n",
       "152716     549687     21977  PACK OF 60 PINK PAISLEY CAKE CASES   \n",
       "\n",
       "               InvoiceDate  CustomerID      Country  AmtSpent  \n",
       "152712 2011-04-11 13:29:00       12363  Unspecified      15.9  \n",
       "152713 2011-04-11 13:29:00       12363  Unspecified      15.9  \n",
       "152714 2011-04-11 13:29:00       12363  Unspecified      15.9  \n",
       "152715 2011-04-11 13:29:00       12363  Unspecified      13.2  \n",
       "152716 2011-04-11 13:29:00       12363  Unspecified      13.2  "
      ]
     },
     "execution_count": 36,
     "metadata": {},
     "output_type": "execute_result"
    }
   ],
   "source": [
    "unspe_df.head()\n"
   ]
  },
  {
   "cell_type": "code",
   "execution_count": 37,
   "id": "359658b0",
   "metadata": {},
   "outputs": [
    {
     "data": {
      "text/plain": [
       "12743    134\n",
       "16320     55\n",
       "14265     31\n",
       "12363     22\n",
       "Name: CustomerID, dtype: int64"
      ]
     },
     "execution_count": 37,
     "metadata": {},
     "output_type": "execute_result"
    }
   ],
   "source": [
    "unspe_df['CustomerID'].value_counts()"
   ]
  },
  {
   "cell_type": "code",
   "execution_count": 38,
   "id": "9336f11b",
   "metadata": {},
   "outputs": [
    {
     "data": {
      "text/plain": [
       "<bound method DataFrame.info of         InvoiceNo StockCode                         Description  \\\n",
       "152712     549687     20685               DOORMAT RED RETROSPOT   \n",
       "152713     549687     22691             DOORMAT WELCOME SUNRISE   \n",
       "152714     549687     48116          DOORMAT MULTICOLOUR STRIPE   \n",
       "152715     549687     21213         PACK OF 72 SKULL CAKE CASES   \n",
       "152716     549687     21977  PACK OF 60 PINK PAISLEY CAKE CASES   \n",
       "...           ...       ...                                 ...   \n",
       "308810     564051     23007              SPACEBOY BABY GIFT SET   \n",
       "308811     564051     21833                CAMOUFLAGE LED TORCH   \n",
       "308812     564051     23081       GREEN METAL BOX ARMY SUPPLIES   \n",
       "308813     564051     23046   PAPER LANTERN 9 POINT DELUXE STAR   \n",
       "308814     564051     23045     PAPER LANTERN 5 POINT STAR MOON   \n",
       "\n",
       "               InvoiceDate  CustomerID      Country  AmtSpent  \n",
       "152712 2011-04-11 13:29:00       12363  Unspecified     15.90  \n",
       "152713 2011-04-11 13:29:00       12363  Unspecified     15.90  \n",
       "152714 2011-04-11 13:29:00       12363  Unspecified     15.90  \n",
       "152715 2011-04-11 13:29:00       12363  Unspecified     13.20  \n",
       "152716 2011-04-11 13:29:00       12363  Unspecified     13.20  \n",
       "...                    ...         ...          ...       ...  \n",
       "308810 2011-08-22 13:32:00       14265  Unspecified     16.95  \n",
       "308811 2011-08-22 13:32:00       14265  Unspecified     20.28  \n",
       "308812 2011-08-22 13:32:00       14265  Unspecified     16.50  \n",
       "308813 2011-08-22 13:32:00       14265  Unspecified     13.30  \n",
       "308814 2011-08-22 13:32:00       14265  Unspecified     16.60  \n",
       "\n",
       "[242 rows x 7 columns]>"
      ]
     },
     "execution_count": 38,
     "metadata": {},
     "output_type": "execute_result"
    }
   ],
   "source": [
    "unspe_df.info"
   ]
  },
  {
   "cell_type": "code",
   "execution_count": 39,
   "id": "222e97d6",
   "metadata": {},
   "outputs": [],
   "source": [
    "cust_df = ecom_df[ecom_df['CustomerID']==12743]"
   ]
  },
  {
   "cell_type": "code",
   "execution_count": 40,
   "id": "b574c904",
   "metadata": {},
   "outputs": [
    {
     "data": {
      "text/html": [
       "<div>\n",
       "<style scoped>\n",
       "    .dataframe tbody tr th:only-of-type {\n",
       "        vertical-align: middle;\n",
       "    }\n",
       "\n",
       "    .dataframe tbody tr th {\n",
       "        vertical-align: top;\n",
       "    }\n",
       "\n",
       "    .dataframe thead th {\n",
       "        text-align: right;\n",
       "    }\n",
       "</style>\n",
       "<table border=\"1\" class=\"dataframe\">\n",
       "  <thead>\n",
       "    <tr style=\"text-align: right;\">\n",
       "      <th></th>\n",
       "      <th>InvoiceNo</th>\n",
       "      <th>StockCode</th>\n",
       "      <th>Description</th>\n",
       "      <th>InvoiceDate</th>\n",
       "      <th>CustomerID</th>\n",
       "      <th>Country</th>\n",
       "      <th>AmtSpent</th>\n",
       "    </tr>\n",
       "  </thead>\n",
       "  <tbody>\n",
       "    <tr>\n",
       "      <th>282730</th>\n",
       "      <td>561658</td>\n",
       "      <td>47563A</td>\n",
       "      <td>RETRO LONGBOARD IRONING BOARD COVER</td>\n",
       "      <td>2011-07-28 16:06:00</td>\n",
       "      <td>12743</td>\n",
       "      <td>Unspecified</td>\n",
       "      <td>1.25</td>\n",
       "    </tr>\n",
       "    <tr>\n",
       "      <th>282731</th>\n",
       "      <td>561658</td>\n",
       "      <td>23124</td>\n",
       "      <td>18PC WOODEN CUTLERY SET DISPOSABLE</td>\n",
       "      <td>2011-07-28 16:06:00</td>\n",
       "      <td>12743</td>\n",
       "      <td>Unspecified</td>\n",
       "      <td>1.25</td>\n",
       "    </tr>\n",
       "    <tr>\n",
       "      <th>282732</th>\n",
       "      <td>561658</td>\n",
       "      <td>47574A</td>\n",
       "      <td>ENGLISH ROSE SCENTED HANGING FLOWER</td>\n",
       "      <td>2011-07-28 16:06:00</td>\n",
       "      <td>12743</td>\n",
       "      <td>Unspecified</td>\n",
       "      <td>0.75</td>\n",
       "    </tr>\n",
       "    <tr>\n",
       "      <th>282733</th>\n",
       "      <td>561658</td>\n",
       "      <td>35968</td>\n",
       "      <td>FOLK ART METAL HEART T-LIGHT HOLDER</td>\n",
       "      <td>2011-07-28 16:06:00</td>\n",
       "      <td>12743</td>\n",
       "      <td>Unspecified</td>\n",
       "      <td>1.90</td>\n",
       "    </tr>\n",
       "    <tr>\n",
       "      <th>282734</th>\n",
       "      <td>561658</td>\n",
       "      <td>84559A</td>\n",
       "      <td>3D SHEET OF DOG STICKERS</td>\n",
       "      <td>2011-07-28 16:06:00</td>\n",
       "      <td>12743</td>\n",
       "      <td>Unspecified</td>\n",
       "      <td>0.85</td>\n",
       "    </tr>\n",
       "    <tr>\n",
       "      <th>282735</th>\n",
       "      <td>561658</td>\n",
       "      <td>21586</td>\n",
       "      <td>KINGS CHOICE GIANT TUBE MATCHES</td>\n",
       "      <td>2011-07-28 16:06:00</td>\n",
       "      <td>12743</td>\n",
       "      <td>Unspecified</td>\n",
       "      <td>2.55</td>\n",
       "    </tr>\n",
       "    <tr>\n",
       "      <th>282736</th>\n",
       "      <td>561658</td>\n",
       "      <td>21733</td>\n",
       "      <td>RED HANGING HEART T-LIGHT HOLDER</td>\n",
       "      <td>2011-07-28 16:06:00</td>\n",
       "      <td>12743</td>\n",
       "      <td>Unspecified</td>\n",
       "      <td>2.95</td>\n",
       "    </tr>\n",
       "    <tr>\n",
       "      <th>282737</th>\n",
       "      <td>561658</td>\n",
       "      <td>23268</td>\n",
       "      <td>SET OF 2 CERAMIC CHRISTMAS REINDEER</td>\n",
       "      <td>2011-07-28 16:06:00</td>\n",
       "      <td>12743</td>\n",
       "      <td>Unspecified</td>\n",
       "      <td>1.45</td>\n",
       "    </tr>\n",
       "    <tr>\n",
       "      <th>282738</th>\n",
       "      <td>561658</td>\n",
       "      <td>23210</td>\n",
       "      <td>WHITE ROCKING HORSE HAND PAINTED</td>\n",
       "      <td>2011-07-28 16:06:00</td>\n",
       "      <td>12743</td>\n",
       "      <td>Unspecified</td>\n",
       "      <td>1.25</td>\n",
       "    </tr>\n",
       "    <tr>\n",
       "      <th>282739</th>\n",
       "      <td>561658</td>\n",
       "      <td>22449</td>\n",
       "      <td>SILK PURSE BABUSHKA PINK</td>\n",
       "      <td>2011-07-28 16:06:00</td>\n",
       "      <td>12743</td>\n",
       "      <td>Unspecified</td>\n",
       "      <td>3.35</td>\n",
       "    </tr>\n",
       "    <tr>\n",
       "      <th>282740</th>\n",
       "      <td>561658</td>\n",
       "      <td>20886</td>\n",
       "      <td>BOX OF 9 PEBBLE CANDLES</td>\n",
       "      <td>2011-07-28 16:06:00</td>\n",
       "      <td>12743</td>\n",
       "      <td>Unspecified</td>\n",
       "      <td>1.95</td>\n",
       "    </tr>\n",
       "    <tr>\n",
       "      <th>282741</th>\n",
       "      <td>561658</td>\n",
       "      <td>84879</td>\n",
       "      <td>ASSORTED COLOUR BIRD ORNAMENT</td>\n",
       "      <td>2011-07-28 16:06:00</td>\n",
       "      <td>12743</td>\n",
       "      <td>Unspecified</td>\n",
       "      <td>5.07</td>\n",
       "    </tr>\n",
       "    <tr>\n",
       "      <th>282742</th>\n",
       "      <td>561658</td>\n",
       "      <td>21588</td>\n",
       "      <td>RETROSPOT GIANT TUBE MATCHES</td>\n",
       "      <td>2011-07-28 16:06:00</td>\n",
       "      <td>12743</td>\n",
       "      <td>Unspecified</td>\n",
       "      <td>2.55</td>\n",
       "    </tr>\n",
       "    <tr>\n",
       "      <th>282743</th>\n",
       "      <td>561658</td>\n",
       "      <td>47599B</td>\n",
       "      <td>BLUE PARTY BAGS</td>\n",
       "      <td>2011-07-28 16:06:00</td>\n",
       "      <td>12743</td>\n",
       "      <td>Unspecified</td>\n",
       "      <td>2.10</td>\n",
       "    </tr>\n",
       "    <tr>\n",
       "      <th>282744</th>\n",
       "      <td>561658</td>\n",
       "      <td>22846</td>\n",
       "      <td>BREAD BIN DINER STYLE RED</td>\n",
       "      <td>2011-07-28 16:06:00</td>\n",
       "      <td>12743</td>\n",
       "      <td>Unspecified</td>\n",
       "      <td>16.95</td>\n",
       "    </tr>\n",
       "    <tr>\n",
       "      <th>282745</th>\n",
       "      <td>561658</td>\n",
       "      <td>23336</td>\n",
       "      <td>EGG FRYING PAN PINK</td>\n",
       "      <td>2011-07-28 16:06:00</td>\n",
       "      <td>12743</td>\n",
       "      <td>Unspecified</td>\n",
       "      <td>2.08</td>\n",
       "    </tr>\n",
       "    <tr>\n",
       "      <th>282746</th>\n",
       "      <td>561658</td>\n",
       "      <td>23338</td>\n",
       "      <td>EGG FRYING PAN RED</td>\n",
       "      <td>2011-07-28 16:06:00</td>\n",
       "      <td>12743</td>\n",
       "      <td>Unspecified</td>\n",
       "      <td>2.08</td>\n",
       "    </tr>\n",
       "    <tr>\n",
       "      <th>282747</th>\n",
       "      <td>561658</td>\n",
       "      <td>23339</td>\n",
       "      <td>EGG FRYING PAN BLUE</td>\n",
       "      <td>2011-07-28 16:06:00</td>\n",
       "      <td>12743</td>\n",
       "      <td>Unspecified</td>\n",
       "      <td>2.08</td>\n",
       "    </tr>\n",
       "    <tr>\n",
       "      <th>282748</th>\n",
       "      <td>561658</td>\n",
       "      <td>21033</td>\n",
       "      <td>JUMBO BAG CHARLIE AND LOLA TOYS</td>\n",
       "      <td>2011-07-28 16:06:00</td>\n",
       "      <td>12743</td>\n",
       "      <td>Unspecified</td>\n",
       "      <td>2.08</td>\n",
       "    </tr>\n",
       "    <tr>\n",
       "      <th>282749</th>\n",
       "      <td>561658</td>\n",
       "      <td>20679</td>\n",
       "      <td>EDWARDIAN PARASOL RED</td>\n",
       "      <td>2011-07-28 16:06:00</td>\n",
       "      <td>12743</td>\n",
       "      <td>Unspecified</td>\n",
       "      <td>5.95</td>\n",
       "    </tr>\n",
       "    <tr>\n",
       "      <th>282750</th>\n",
       "      <td>561658</td>\n",
       "      <td>22046</td>\n",
       "      <td>TEA PARTY  WRAPPING PAPER</td>\n",
       "      <td>2011-07-28 16:06:00</td>\n",
       "      <td>12743</td>\n",
       "      <td>Unspecified</td>\n",
       "      <td>10.50</td>\n",
       "    </tr>\n",
       "    <tr>\n",
       "      <th>282751</th>\n",
       "      <td>561658</td>\n",
       "      <td>23546</td>\n",
       "      <td>WRAP PAISLEY PARK</td>\n",
       "      <td>2011-07-28 16:06:00</td>\n",
       "      <td>12743</td>\n",
       "      <td>Unspecified</td>\n",
       "      <td>10.50</td>\n",
       "    </tr>\n",
       "    <tr>\n",
       "      <th>282752</th>\n",
       "      <td>561658</td>\n",
       "      <td>21108</td>\n",
       "      <td>FAIRY CAKE FLANNEL ASSORTED COLOUR</td>\n",
       "      <td>2011-07-28 16:06:00</td>\n",
       "      <td>12743</td>\n",
       "      <td>Unspecified</td>\n",
       "      <td>2.55</td>\n",
       "    </tr>\n",
       "    <tr>\n",
       "      <th>282753</th>\n",
       "      <td>561658</td>\n",
       "      <td>21002</td>\n",
       "      <td>ROSE DU SUD DRAWSTRING BAG</td>\n",
       "      <td>2011-07-28 16:06:00</td>\n",
       "      <td>12743</td>\n",
       "      <td>Unspecified</td>\n",
       "      <td>8.50</td>\n",
       "    </tr>\n",
       "    <tr>\n",
       "      <th>282754</th>\n",
       "      <td>561658</td>\n",
       "      <td>85212</td>\n",
       "      <td>MINI PAINTED GARDEN DECORATION</td>\n",
       "      <td>2011-07-28 16:06:00</td>\n",
       "      <td>12743</td>\n",
       "      <td>Unspecified</td>\n",
       "      <td>3.48</td>\n",
       "    </tr>\n",
       "  </tbody>\n",
       "</table>\n",
       "</div>"
      ],
      "text/plain": [
       "        InvoiceNo StockCode                          Description  \\\n",
       "282730     561658    47563A  RETRO LONGBOARD IRONING BOARD COVER   \n",
       "282731     561658     23124   18PC WOODEN CUTLERY SET DISPOSABLE   \n",
       "282732     561658    47574A  ENGLISH ROSE SCENTED HANGING FLOWER   \n",
       "282733     561658     35968  FOLK ART METAL HEART T-LIGHT HOLDER   \n",
       "282734     561658    84559A             3D SHEET OF DOG STICKERS   \n",
       "282735     561658     21586      KINGS CHOICE GIANT TUBE MATCHES   \n",
       "282736     561658     21733     RED HANGING HEART T-LIGHT HOLDER   \n",
       "282737     561658     23268  SET OF 2 CERAMIC CHRISTMAS REINDEER   \n",
       "282738     561658     23210     WHITE ROCKING HORSE HAND PAINTED   \n",
       "282739     561658     22449             SILK PURSE BABUSHKA PINK   \n",
       "282740     561658     20886              BOX OF 9 PEBBLE CANDLES   \n",
       "282741     561658     84879        ASSORTED COLOUR BIRD ORNAMENT   \n",
       "282742     561658     21588         RETROSPOT GIANT TUBE MATCHES   \n",
       "282743     561658    47599B                      BLUE PARTY BAGS   \n",
       "282744     561658     22846            BREAD BIN DINER STYLE RED   \n",
       "282745     561658     23336                  EGG FRYING PAN PINK   \n",
       "282746     561658     23338                   EGG FRYING PAN RED   \n",
       "282747     561658     23339                  EGG FRYING PAN BLUE   \n",
       "282748     561658     21033      JUMBO BAG CHARLIE AND LOLA TOYS   \n",
       "282749     561658     20679                EDWARDIAN PARASOL RED   \n",
       "282750     561658     22046            TEA PARTY  WRAPPING PAPER   \n",
       "282751     561658     23546                    WRAP PAISLEY PARK   \n",
       "282752     561658     21108   FAIRY CAKE FLANNEL ASSORTED COLOUR   \n",
       "282753     561658     21002           ROSE DU SUD DRAWSTRING BAG   \n",
       "282754     561658     85212       MINI PAINTED GARDEN DECORATION   \n",
       "\n",
       "               InvoiceDate  CustomerID      Country  AmtSpent  \n",
       "282730 2011-07-28 16:06:00       12743  Unspecified      1.25  \n",
       "282731 2011-07-28 16:06:00       12743  Unspecified      1.25  \n",
       "282732 2011-07-28 16:06:00       12743  Unspecified      0.75  \n",
       "282733 2011-07-28 16:06:00       12743  Unspecified      1.90  \n",
       "282734 2011-07-28 16:06:00       12743  Unspecified      0.85  \n",
       "282735 2011-07-28 16:06:00       12743  Unspecified      2.55  \n",
       "282736 2011-07-28 16:06:00       12743  Unspecified      2.95  \n",
       "282737 2011-07-28 16:06:00       12743  Unspecified      1.45  \n",
       "282738 2011-07-28 16:06:00       12743  Unspecified      1.25  \n",
       "282739 2011-07-28 16:06:00       12743  Unspecified      3.35  \n",
       "282740 2011-07-28 16:06:00       12743  Unspecified      1.95  \n",
       "282741 2011-07-28 16:06:00       12743  Unspecified      5.07  \n",
       "282742 2011-07-28 16:06:00       12743  Unspecified      2.55  \n",
       "282743 2011-07-28 16:06:00       12743  Unspecified      2.10  \n",
       "282744 2011-07-28 16:06:00       12743  Unspecified     16.95  \n",
       "282745 2011-07-28 16:06:00       12743  Unspecified      2.08  \n",
       "282746 2011-07-28 16:06:00       12743  Unspecified      2.08  \n",
       "282747 2011-07-28 16:06:00       12743  Unspecified      2.08  \n",
       "282748 2011-07-28 16:06:00       12743  Unspecified      2.08  \n",
       "282749 2011-07-28 16:06:00       12743  Unspecified      5.95  \n",
       "282750 2011-07-28 16:06:00       12743  Unspecified     10.50  \n",
       "282751 2011-07-28 16:06:00       12743  Unspecified     10.50  \n",
       "282752 2011-07-28 16:06:00       12743  Unspecified      2.55  \n",
       "282753 2011-07-28 16:06:00       12743  Unspecified      8.50  \n",
       "282754 2011-07-28 16:06:00       12743  Unspecified      3.48  "
      ]
     },
     "execution_count": 40,
     "metadata": {},
     "output_type": "execute_result"
    }
   ],
   "source": [
    "cust_df.head(25)"
   ]
  },
  {
   "cell_type": "markdown",
   "id": "d1860de2",
   "metadata": {},
   "source": [
    "After looking at one of the customers with a country of unspecified, considering replacing unspecified with nulls and using interpolate to fill in with the country code closest to it. Leaving it as unspecified for now. "
   ]
  },
  {
   "cell_type": "markdown",
   "id": "e9f67448",
   "metadata": {},
   "source": [
    "Changing StockCode and Country to int using LabelEncoder"
   ]
  },
  {
   "cell_type": "code",
   "execution_count": 41,
   "id": "551517d1",
   "metadata": {},
   "outputs": [],
   "source": [
    "class_labels = LabelEncoder()\n",
    "ecom_df['StockCode'] = class_labels.fit_transform(ecom_df['StockCode'].values)\n",
    "class_lab = LabelEncoder()\n",
    "ecom_df['Country'] = class_lab.fit_transform(ecom_df['Country'].values)"
   ]
  },
  {
   "cell_type": "code",
   "execution_count": 42,
   "id": "1ad59fcb",
   "metadata": {},
   "outputs": [
    {
     "data": {
      "text/html": [
       "<div>\n",
       "<style scoped>\n",
       "    .dataframe tbody tr th:only-of-type {\n",
       "        vertical-align: middle;\n",
       "    }\n",
       "\n",
       "    .dataframe tbody tr th {\n",
       "        vertical-align: top;\n",
       "    }\n",
       "\n",
       "    .dataframe thead th {\n",
       "        text-align: right;\n",
       "    }\n",
       "</style>\n",
       "<table border=\"1\" class=\"dataframe\">\n",
       "  <thead>\n",
       "    <tr style=\"text-align: right;\">\n",
       "      <th></th>\n",
       "      <th>InvoiceNo</th>\n",
       "      <th>StockCode</th>\n",
       "      <th>Description</th>\n",
       "      <th>InvoiceDate</th>\n",
       "      <th>CustomerID</th>\n",
       "      <th>Country</th>\n",
       "      <th>AmtSpent</th>\n",
       "    </tr>\n",
       "  </thead>\n",
       "  <tbody>\n",
       "    <tr>\n",
       "      <th>0</th>\n",
       "      <td>536365</td>\n",
       "      <td>3232</td>\n",
       "      <td>WHITE HANGING HEART T-LIGHT HOLDER</td>\n",
       "      <td>2010-12-01 08:26:00</td>\n",
       "      <td>17850</td>\n",
       "      <td>35</td>\n",
       "      <td>15.30</td>\n",
       "    </tr>\n",
       "    <tr>\n",
       "      <th>1</th>\n",
       "      <td>536365</td>\n",
       "      <td>2636</td>\n",
       "      <td>WHITE METAL LANTERN</td>\n",
       "      <td>2010-12-01 08:26:00</td>\n",
       "      <td>17850</td>\n",
       "      <td>35</td>\n",
       "      <td>20.34</td>\n",
       "    </tr>\n",
       "    <tr>\n",
       "      <th>2</th>\n",
       "      <td>536365</td>\n",
       "      <td>2840</td>\n",
       "      <td>CREAM CUPID HEARTS COAT HANGER</td>\n",
       "      <td>2010-12-01 08:26:00</td>\n",
       "      <td>17850</td>\n",
       "      <td>35</td>\n",
       "      <td>22.00</td>\n",
       "    </tr>\n",
       "    <tr>\n",
       "      <th>3</th>\n",
       "      <td>536365</td>\n",
       "      <td>2788</td>\n",
       "      <td>KNITTED UNION FLAG HOT WATER BOTTLE</td>\n",
       "      <td>2010-12-01 08:26:00</td>\n",
       "      <td>17850</td>\n",
       "      <td>35</td>\n",
       "      <td>20.34</td>\n",
       "    </tr>\n",
       "    <tr>\n",
       "      <th>4</th>\n",
       "      <td>536365</td>\n",
       "      <td>2787</td>\n",
       "      <td>RED WOOLLY HOTTIE WHITE HEART.</td>\n",
       "      <td>2010-12-01 08:26:00</td>\n",
       "      <td>17850</td>\n",
       "      <td>35</td>\n",
       "      <td>20.34</td>\n",
       "    </tr>\n",
       "    <tr>\n",
       "      <th>5</th>\n",
       "      <td>536365</td>\n",
       "      <td>1596</td>\n",
       "      <td>SET 7 BABUSHKA NESTING BOXES</td>\n",
       "      <td>2010-12-01 08:26:00</td>\n",
       "      <td>17850</td>\n",
       "      <td>35</td>\n",
       "      <td>15.30</td>\n",
       "    </tr>\n",
       "    <tr>\n",
       "      <th>6</th>\n",
       "      <td>536365</td>\n",
       "      <td>749</td>\n",
       "      <td>GLASS STAR FROSTED T-LIGHT HOLDER</td>\n",
       "      <td>2010-12-01 08:26:00</td>\n",
       "      <td>17850</td>\n",
       "      <td>35</td>\n",
       "      <td>25.50</td>\n",
       "    </tr>\n",
       "    <tr>\n",
       "      <th>7</th>\n",
       "      <td>536366</td>\n",
       "      <td>1481</td>\n",
       "      <td>HAND WARMER UNION JACK</td>\n",
       "      <td>2010-12-01 08:28:00</td>\n",
       "      <td>17850</td>\n",
       "      <td>35</td>\n",
       "      <td>11.10</td>\n",
       "    </tr>\n",
       "    <tr>\n",
       "      <th>8</th>\n",
       "      <td>536366</td>\n",
       "      <td>1480</td>\n",
       "      <td>HAND WARMER RED POLKA DOT</td>\n",
       "      <td>2010-12-01 08:28:00</td>\n",
       "      <td>17850</td>\n",
       "      <td>35</td>\n",
       "      <td>11.10</td>\n",
       "    </tr>\n",
       "    <tr>\n",
       "      <th>10</th>\n",
       "      <td>536367</td>\n",
       "      <td>1589</td>\n",
       "      <td>POPPY'S PLAYHOUSE BEDROOM</td>\n",
       "      <td>2010-12-01 08:34:00</td>\n",
       "      <td>13047</td>\n",
       "      <td>35</td>\n",
       "      <td>12.60</td>\n",
       "    </tr>\n",
       "    <tr>\n",
       "      <th>11</th>\n",
       "      <td>536367</td>\n",
       "      <td>1592</td>\n",
       "      <td>POPPY'S PLAYHOUSE KITCHEN</td>\n",
       "      <td>2010-12-01 08:34:00</td>\n",
       "      <td>13047</td>\n",
       "      <td>35</td>\n",
       "      <td>12.60</td>\n",
       "    </tr>\n",
       "    <tr>\n",
       "      <th>12</th>\n",
       "      <td>536367</td>\n",
       "      <td>1593</td>\n",
       "      <td>FELTCRAFT PRINCESS CHARLOTTE DOLL</td>\n",
       "      <td>2010-12-01 08:34:00</td>\n",
       "      <td>13047</td>\n",
       "      <td>35</td>\n",
       "      <td>30.00</td>\n",
       "    </tr>\n",
       "    <tr>\n",
       "      <th>13</th>\n",
       "      <td>536367</td>\n",
       "      <td>1182</td>\n",
       "      <td>IVORY KNITTED MUG COSY</td>\n",
       "      <td>2010-12-01 08:34:00</td>\n",
       "      <td>13047</td>\n",
       "      <td>35</td>\n",
       "      <td>9.90</td>\n",
       "    </tr>\n",
       "    <tr>\n",
       "      <th>14</th>\n",
       "      <td>536367</td>\n",
       "      <td>3107</td>\n",
       "      <td>BOX OF 6 ASSORTED COLOUR TEASPOONS</td>\n",
       "      <td>2010-12-01 08:34:00</td>\n",
       "      <td>13047</td>\n",
       "      <td>35</td>\n",
       "      <td>25.50</td>\n",
       "    </tr>\n",
       "    <tr>\n",
       "      <th>15</th>\n",
       "      <td>536367</td>\n",
       "      <td>1471</td>\n",
       "      <td>BOX OF VINTAGE JIGSAW BLOCKS</td>\n",
       "      <td>2010-12-01 08:34:00</td>\n",
       "      <td>13047</td>\n",
       "      <td>35</td>\n",
       "      <td>14.85</td>\n",
       "    </tr>\n",
       "    <tr>\n",
       "      <th>16</th>\n",
       "      <td>536367</td>\n",
       "      <td>1470</td>\n",
       "      <td>BOX OF VINTAGE ALPHABET BLOCKS</td>\n",
       "      <td>2010-12-01 08:34:00</td>\n",
       "      <td>13047</td>\n",
       "      <td>35</td>\n",
       "      <td>19.90</td>\n",
       "    </tr>\n",
       "    <tr>\n",
       "      <th>17</th>\n",
       "      <td>536367</td>\n",
       "      <td>765</td>\n",
       "      <td>HOME BUILDING BLOCK WORD</td>\n",
       "      <td>2010-12-01 08:34:00</td>\n",
       "      <td>13047</td>\n",
       "      <td>35</td>\n",
       "      <td>17.85</td>\n",
       "    </tr>\n",
       "    <tr>\n",
       "      <th>18</th>\n",
       "      <td>536367</td>\n",
       "      <td>766</td>\n",
       "      <td>LOVE BUILDING BLOCK WORD</td>\n",
       "      <td>2010-12-01 08:34:00</td>\n",
       "      <td>13047</td>\n",
       "      <td>35</td>\n",
       "      <td>17.85</td>\n",
       "    </tr>\n",
       "    <tr>\n",
       "      <th>19</th>\n",
       "      <td>536367</td>\n",
       "      <td>777</td>\n",
       "      <td>RECIPE BOX WITH METAL HEART</td>\n",
       "      <td>2010-12-01 08:34:00</td>\n",
       "      <td>13047</td>\n",
       "      <td>35</td>\n",
       "      <td>31.80</td>\n",
       "    </tr>\n",
       "    <tr>\n",
       "      <th>20</th>\n",
       "      <td>536367</td>\n",
       "      <td>2615</td>\n",
       "      <td>DOORMAT NEW ENGLAND</td>\n",
       "      <td>2010-12-01 08:34:00</td>\n",
       "      <td>13047</td>\n",
       "      <td>35</td>\n",
       "      <td>31.80</td>\n",
       "    </tr>\n",
       "    <tr>\n",
       "      <th>21</th>\n",
       "      <td>536368</td>\n",
       "      <td>1796</td>\n",
       "      <td>JAM MAKING SET WITH JARS</td>\n",
       "      <td>2010-12-01 08:34:00</td>\n",
       "      <td>13047</td>\n",
       "      <td>35</td>\n",
       "      <td>25.50</td>\n",
       "    </tr>\n",
       "    <tr>\n",
       "      <th>22</th>\n",
       "      <td>536368</td>\n",
       "      <td>1750</td>\n",
       "      <td>RED COAT RACK PARIS FASHION</td>\n",
       "      <td>2010-12-01 08:34:00</td>\n",
       "      <td>13047</td>\n",
       "      <td>35</td>\n",
       "      <td>14.85</td>\n",
       "    </tr>\n",
       "    <tr>\n",
       "      <th>23</th>\n",
       "      <td>536368</td>\n",
       "      <td>1749</td>\n",
       "      <td>YELLOW COAT RACK PARIS FASHION</td>\n",
       "      <td>2010-12-01 08:34:00</td>\n",
       "      <td>13047</td>\n",
       "      <td>35</td>\n",
       "      <td>14.85</td>\n",
       "    </tr>\n",
       "    <tr>\n",
       "      <th>24</th>\n",
       "      <td>536368</td>\n",
       "      <td>1751</td>\n",
       "      <td>BLUE COAT RACK PARIS FASHION</td>\n",
       "      <td>2010-12-01 08:34:00</td>\n",
       "      <td>13047</td>\n",
       "      <td>35</td>\n",
       "      <td>14.85</td>\n",
       "    </tr>\n",
       "    <tr>\n",
       "      <th>25</th>\n",
       "      <td>536369</td>\n",
       "      <td>767</td>\n",
       "      <td>BATH BUILDING BLOCK WORD</td>\n",
       "      <td>2010-12-01 08:35:00</td>\n",
       "      <td>13047</td>\n",
       "      <td>35</td>\n",
       "      <td>17.85</td>\n",
       "    </tr>\n",
       "  </tbody>\n",
       "</table>\n",
       "</div>"
      ],
      "text/plain": [
       "    InvoiceNo  StockCode                          Description  \\\n",
       "0      536365       3232   WHITE HANGING HEART T-LIGHT HOLDER   \n",
       "1      536365       2636                  WHITE METAL LANTERN   \n",
       "2      536365       2840       CREAM CUPID HEARTS COAT HANGER   \n",
       "3      536365       2788  KNITTED UNION FLAG HOT WATER BOTTLE   \n",
       "4      536365       2787       RED WOOLLY HOTTIE WHITE HEART.   \n",
       "5      536365       1596         SET 7 BABUSHKA NESTING BOXES   \n",
       "6      536365        749    GLASS STAR FROSTED T-LIGHT HOLDER   \n",
       "7      536366       1481               HAND WARMER UNION JACK   \n",
       "8      536366       1480            HAND WARMER RED POLKA DOT   \n",
       "10     536367       1589            POPPY'S PLAYHOUSE BEDROOM   \n",
       "11     536367       1592            POPPY'S PLAYHOUSE KITCHEN   \n",
       "12     536367       1593    FELTCRAFT PRINCESS CHARLOTTE DOLL   \n",
       "13     536367       1182               IVORY KNITTED MUG COSY   \n",
       "14     536367       3107   BOX OF 6 ASSORTED COLOUR TEASPOONS   \n",
       "15     536367       1471         BOX OF VINTAGE JIGSAW BLOCKS   \n",
       "16     536367       1470       BOX OF VINTAGE ALPHABET BLOCKS   \n",
       "17     536367        765             HOME BUILDING BLOCK WORD   \n",
       "18     536367        766             LOVE BUILDING BLOCK WORD   \n",
       "19     536367        777          RECIPE BOX WITH METAL HEART   \n",
       "20     536367       2615                  DOORMAT NEW ENGLAND   \n",
       "21     536368       1796             JAM MAKING SET WITH JARS   \n",
       "22     536368       1750          RED COAT RACK PARIS FASHION   \n",
       "23     536368       1749       YELLOW COAT RACK PARIS FASHION   \n",
       "24     536368       1751         BLUE COAT RACK PARIS FASHION   \n",
       "25     536369        767             BATH BUILDING BLOCK WORD   \n",
       "\n",
       "           InvoiceDate  CustomerID  Country  AmtSpent  \n",
       "0  2010-12-01 08:26:00       17850       35     15.30  \n",
       "1  2010-12-01 08:26:00       17850       35     20.34  \n",
       "2  2010-12-01 08:26:00       17850       35     22.00  \n",
       "3  2010-12-01 08:26:00       17850       35     20.34  \n",
       "4  2010-12-01 08:26:00       17850       35     20.34  \n",
       "5  2010-12-01 08:26:00       17850       35     15.30  \n",
       "6  2010-12-01 08:26:00       17850       35     25.50  \n",
       "7  2010-12-01 08:28:00       17850       35     11.10  \n",
       "8  2010-12-01 08:28:00       17850       35     11.10  \n",
       "10 2010-12-01 08:34:00       13047       35     12.60  \n",
       "11 2010-12-01 08:34:00       13047       35     12.60  \n",
       "12 2010-12-01 08:34:00       13047       35     30.00  \n",
       "13 2010-12-01 08:34:00       13047       35      9.90  \n",
       "14 2010-12-01 08:34:00       13047       35     25.50  \n",
       "15 2010-12-01 08:34:00       13047       35     14.85  \n",
       "16 2010-12-01 08:34:00       13047       35     19.90  \n",
       "17 2010-12-01 08:34:00       13047       35     17.85  \n",
       "18 2010-12-01 08:34:00       13047       35     17.85  \n",
       "19 2010-12-01 08:34:00       13047       35     31.80  \n",
       "20 2010-12-01 08:34:00       13047       35     31.80  \n",
       "21 2010-12-01 08:34:00       13047       35     25.50  \n",
       "22 2010-12-01 08:34:00       13047       35     14.85  \n",
       "23 2010-12-01 08:34:00       13047       35     14.85  \n",
       "24 2010-12-01 08:34:00       13047       35     14.85  \n",
       "25 2010-12-01 08:35:00       13047       35     17.85  "
      ]
     },
     "execution_count": 42,
     "metadata": {},
     "output_type": "execute_result"
    }
   ],
   "source": [
    "ecom_df.head(25)"
   ]
  },
  {
   "cell_type": "markdown",
   "id": "2dd1ac75",
   "metadata": {},
   "source": [
    "Now need to do something with description"
   ]
  },
  {
   "cell_type": "code",
   "execution_count": 43,
   "id": "df3e8534",
   "metadata": {},
   "outputs": [],
   "source": [
    "class_lab1 = LabelEncoder()\n",
    "ecom_df['Description'] = class_lab1.fit_transform(ecom_df['Description'].values)\n"
   ]
  },
  {
   "cell_type": "code",
   "execution_count": 44,
   "id": "6b254d3a",
   "metadata": {},
   "outputs": [
    {
     "data": {
      "text/html": [
       "<div>\n",
       "<style scoped>\n",
       "    .dataframe tbody tr th:only-of-type {\n",
       "        vertical-align: middle;\n",
       "    }\n",
       "\n",
       "    .dataframe tbody tr th {\n",
       "        vertical-align: top;\n",
       "    }\n",
       "\n",
       "    .dataframe thead th {\n",
       "        text-align: right;\n",
       "    }\n",
       "</style>\n",
       "<table border=\"1\" class=\"dataframe\">\n",
       "  <thead>\n",
       "    <tr style=\"text-align: right;\">\n",
       "      <th></th>\n",
       "      <th>InvoiceNo</th>\n",
       "      <th>StockCode</th>\n",
       "      <th>Description</th>\n",
       "      <th>InvoiceDate</th>\n",
       "      <th>CustomerID</th>\n",
       "      <th>Country</th>\n",
       "      <th>AmtSpent</th>\n",
       "    </tr>\n",
       "  </thead>\n",
       "  <tbody>\n",
       "    <tr>\n",
       "      <th>0</th>\n",
       "      <td>536365</td>\n",
       "      <td>3232</td>\n",
       "      <td>3681</td>\n",
       "      <td>2010-12-01 08:26:00</td>\n",
       "      <td>17850</td>\n",
       "      <td>35</td>\n",
       "      <td>15.30</td>\n",
       "    </tr>\n",
       "    <tr>\n",
       "      <th>1</th>\n",
       "      <td>536365</td>\n",
       "      <td>2636</td>\n",
       "      <td>3689</td>\n",
       "      <td>2010-12-01 08:26:00</td>\n",
       "      <td>17850</td>\n",
       "      <td>35</td>\n",
       "      <td>20.34</td>\n",
       "    </tr>\n",
       "    <tr>\n",
       "      <th>2</th>\n",
       "      <td>536365</td>\n",
       "      <td>2840</td>\n",
       "      <td>843</td>\n",
       "      <td>2010-12-01 08:26:00</td>\n",
       "      <td>17850</td>\n",
       "      <td>35</td>\n",
       "      <td>22.00</td>\n",
       "    </tr>\n",
       "    <tr>\n",
       "      <th>3</th>\n",
       "      <td>536365</td>\n",
       "      <td>2788</td>\n",
       "      <td>1791</td>\n",
       "      <td>2010-12-01 08:26:00</td>\n",
       "      <td>17850</td>\n",
       "      <td>35</td>\n",
       "      <td>20.34</td>\n",
       "    </tr>\n",
       "    <tr>\n",
       "      <th>4</th>\n",
       "      <td>536365</td>\n",
       "      <td>2787</td>\n",
       "      <td>2746</td>\n",
       "      <td>2010-12-01 08:26:00</td>\n",
       "      <td>17850</td>\n",
       "      <td>35</td>\n",
       "      <td>20.34</td>\n",
       "    </tr>\n",
       "    <tr>\n",
       "      <th>5</th>\n",
       "      <td>536365</td>\n",
       "      <td>1596</td>\n",
       "      <td>2946</td>\n",
       "      <td>2010-12-01 08:26:00</td>\n",
       "      <td>17850</td>\n",
       "      <td>35</td>\n",
       "      <td>15.30</td>\n",
       "    </tr>\n",
       "    <tr>\n",
       "      <th>6</th>\n",
       "      <td>536365</td>\n",
       "      <td>749</td>\n",
       "      <td>1422</td>\n",
       "      <td>2010-12-01 08:26:00</td>\n",
       "      <td>17850</td>\n",
       "      <td>35</td>\n",
       "      <td>25.50</td>\n",
       "    </tr>\n",
       "    <tr>\n",
       "      <th>7</th>\n",
       "      <td>536366</td>\n",
       "      <td>1481</td>\n",
       "      <td>1540</td>\n",
       "      <td>2010-12-01 08:28:00</td>\n",
       "      <td>17850</td>\n",
       "      <td>35</td>\n",
       "      <td>11.10</td>\n",
       "    </tr>\n",
       "    <tr>\n",
       "      <th>8</th>\n",
       "      <td>536366</td>\n",
       "      <td>1480</td>\n",
       "      <td>1537</td>\n",
       "      <td>2010-12-01 08:28:00</td>\n",
       "      <td>17850</td>\n",
       "      <td>35</td>\n",
       "      <td>11.10</td>\n",
       "    </tr>\n",
       "    <tr>\n",
       "      <th>10</th>\n",
       "      <td>536367</td>\n",
       "      <td>1589</td>\n",
       "      <td>2585</td>\n",
       "      <td>2010-12-01 08:34:00</td>\n",
       "      <td>13047</td>\n",
       "      <td>35</td>\n",
       "      <td>12.60</td>\n",
       "    </tr>\n",
       "    <tr>\n",
       "      <th>11</th>\n",
       "      <td>536367</td>\n",
       "      <td>1592</td>\n",
       "      <td>2586</td>\n",
       "      <td>2010-12-01 08:34:00</td>\n",
       "      <td>13047</td>\n",
       "      <td>35</td>\n",
       "      <td>12.60</td>\n",
       "    </tr>\n",
       "    <tr>\n",
       "      <th>12</th>\n",
       "      <td>536367</td>\n",
       "      <td>1593</td>\n",
       "      <td>1196</td>\n",
       "      <td>2010-12-01 08:34:00</td>\n",
       "      <td>13047</td>\n",
       "      <td>35</td>\n",
       "      <td>30.00</td>\n",
       "    </tr>\n",
       "    <tr>\n",
       "      <th>13</th>\n",
       "      <td>536367</td>\n",
       "      <td>1182</td>\n",
       "      <td>1688</td>\n",
       "      <td>2010-12-01 08:34:00</td>\n",
       "      <td>13047</td>\n",
       "      <td>35</td>\n",
       "      <td>9.90</td>\n",
       "    </tr>\n",
       "    <tr>\n",
       "      <th>14</th>\n",
       "      <td>536367</td>\n",
       "      <td>3107</td>\n",
       "      <td>512</td>\n",
       "      <td>2010-12-01 08:34:00</td>\n",
       "      <td>13047</td>\n",
       "      <td>35</td>\n",
       "      <td>25.50</td>\n",
       "    </tr>\n",
       "    <tr>\n",
       "      <th>15</th>\n",
       "      <td>536367</td>\n",
       "      <td>1471</td>\n",
       "      <td>518</td>\n",
       "      <td>2010-12-01 08:34:00</td>\n",
       "      <td>13047</td>\n",
       "      <td>35</td>\n",
       "      <td>14.85</td>\n",
       "    </tr>\n",
       "    <tr>\n",
       "      <th>16</th>\n",
       "      <td>536367</td>\n",
       "      <td>1470</td>\n",
       "      <td>517</td>\n",
       "      <td>2010-12-01 08:34:00</td>\n",
       "      <td>13047</td>\n",
       "      <td>35</td>\n",
       "      <td>19.90</td>\n",
       "    </tr>\n",
       "    <tr>\n",
       "      <th>17</th>\n",
       "      <td>536367</td>\n",
       "      <td>765</td>\n",
       "      <td>1630</td>\n",
       "      <td>2010-12-01 08:34:00</td>\n",
       "      <td>13047</td>\n",
       "      <td>35</td>\n",
       "      <td>17.85</td>\n",
       "    </tr>\n",
       "    <tr>\n",
       "      <th>18</th>\n",
       "      <td>536367</td>\n",
       "      <td>766</td>\n",
       "      <td>1911</td>\n",
       "      <td>2010-12-01 08:34:00</td>\n",
       "      <td>13047</td>\n",
       "      <td>35</td>\n",
       "      <td>17.85</td>\n",
       "    </tr>\n",
       "    <tr>\n",
       "      <th>19</th>\n",
       "      <td>536367</td>\n",
       "      <td>777</td>\n",
       "      <td>2649</td>\n",
       "      <td>2010-12-01 08:34:00</td>\n",
       "      <td>13047</td>\n",
       "      <td>35</td>\n",
       "      <td>31.80</td>\n",
       "    </tr>\n",
       "    <tr>\n",
       "      <th>20</th>\n",
       "      <td>536367</td>\n",
       "      <td>2615</td>\n",
       "      <td>1007</td>\n",
       "      <td>2010-12-01 08:34:00</td>\n",
       "      <td>13047</td>\n",
       "      <td>35</td>\n",
       "      <td>31.80</td>\n",
       "    </tr>\n",
       "    <tr>\n",
       "      <th>21</th>\n",
       "      <td>536368</td>\n",
       "      <td>1796</td>\n",
       "      <td>1716</td>\n",
       "      <td>2010-12-01 08:34:00</td>\n",
       "      <td>13047</td>\n",
       "      <td>35</td>\n",
       "      <td>25.50</td>\n",
       "    </tr>\n",
       "    <tr>\n",
       "      <th>22</th>\n",
       "      <td>536368</td>\n",
       "      <td>1750</td>\n",
       "      <td>2668</td>\n",
       "      <td>2010-12-01 08:34:00</td>\n",
       "      <td>13047</td>\n",
       "      <td>35</td>\n",
       "      <td>14.85</td>\n",
       "    </tr>\n",
       "    <tr>\n",
       "      <th>23</th>\n",
       "      <td>536368</td>\n",
       "      <td>1749</td>\n",
       "      <td>3819</td>\n",
       "      <td>2010-12-01 08:34:00</td>\n",
       "      <td>13047</td>\n",
       "      <td>35</td>\n",
       "      <td>14.85</td>\n",
       "    </tr>\n",
       "    <tr>\n",
       "      <th>24</th>\n",
       "      <td>536368</td>\n",
       "      <td>1751</td>\n",
       "      <td>401</td>\n",
       "      <td>2010-12-01 08:34:00</td>\n",
       "      <td>13047</td>\n",
       "      <td>35</td>\n",
       "      <td>14.85</td>\n",
       "    </tr>\n",
       "    <tr>\n",
       "      <th>25</th>\n",
       "      <td>536369</td>\n",
       "      <td>767</td>\n",
       "      <td>270</td>\n",
       "      <td>2010-12-01 08:35:00</td>\n",
       "      <td>13047</td>\n",
       "      <td>35</td>\n",
       "      <td>17.85</td>\n",
       "    </tr>\n",
       "  </tbody>\n",
       "</table>\n",
       "</div>"
      ],
      "text/plain": [
       "    InvoiceNo  StockCode  Description         InvoiceDate  CustomerID  \\\n",
       "0      536365       3232         3681 2010-12-01 08:26:00       17850   \n",
       "1      536365       2636         3689 2010-12-01 08:26:00       17850   \n",
       "2      536365       2840          843 2010-12-01 08:26:00       17850   \n",
       "3      536365       2788         1791 2010-12-01 08:26:00       17850   \n",
       "4      536365       2787         2746 2010-12-01 08:26:00       17850   \n",
       "5      536365       1596         2946 2010-12-01 08:26:00       17850   \n",
       "6      536365        749         1422 2010-12-01 08:26:00       17850   \n",
       "7      536366       1481         1540 2010-12-01 08:28:00       17850   \n",
       "8      536366       1480         1537 2010-12-01 08:28:00       17850   \n",
       "10     536367       1589         2585 2010-12-01 08:34:00       13047   \n",
       "11     536367       1592         2586 2010-12-01 08:34:00       13047   \n",
       "12     536367       1593         1196 2010-12-01 08:34:00       13047   \n",
       "13     536367       1182         1688 2010-12-01 08:34:00       13047   \n",
       "14     536367       3107          512 2010-12-01 08:34:00       13047   \n",
       "15     536367       1471          518 2010-12-01 08:34:00       13047   \n",
       "16     536367       1470          517 2010-12-01 08:34:00       13047   \n",
       "17     536367        765         1630 2010-12-01 08:34:00       13047   \n",
       "18     536367        766         1911 2010-12-01 08:34:00       13047   \n",
       "19     536367        777         2649 2010-12-01 08:34:00       13047   \n",
       "20     536367       2615         1007 2010-12-01 08:34:00       13047   \n",
       "21     536368       1796         1716 2010-12-01 08:34:00       13047   \n",
       "22     536368       1750         2668 2010-12-01 08:34:00       13047   \n",
       "23     536368       1749         3819 2010-12-01 08:34:00       13047   \n",
       "24     536368       1751          401 2010-12-01 08:34:00       13047   \n",
       "25     536369        767          270 2010-12-01 08:35:00       13047   \n",
       "\n",
       "    Country  AmtSpent  \n",
       "0        35     15.30  \n",
       "1        35     20.34  \n",
       "2        35     22.00  \n",
       "3        35     20.34  \n",
       "4        35     20.34  \n",
       "5        35     15.30  \n",
       "6        35     25.50  \n",
       "7        35     11.10  \n",
       "8        35     11.10  \n",
       "10       35     12.60  \n",
       "11       35     12.60  \n",
       "12       35     30.00  \n",
       "13       35      9.90  \n",
       "14       35     25.50  \n",
       "15       35     14.85  \n",
       "16       35     19.90  \n",
       "17       35     17.85  \n",
       "18       35     17.85  \n",
       "19       35     31.80  \n",
       "20       35     31.80  \n",
       "21       35     25.50  \n",
       "22       35     14.85  \n",
       "23       35     14.85  \n",
       "24       35     14.85  \n",
       "25       35     17.85  "
      ]
     },
     "execution_count": 44,
     "metadata": {},
     "output_type": "execute_result"
    }
   ],
   "source": [
    "ecom_df.head(25)"
   ]
  },
  {
   "cell_type": "code",
   "execution_count": 45,
   "id": "5fbe4fb1",
   "metadata": {},
   "outputs": [
    {
     "data": {
      "text/plain": [
       "2750    1806\n",
       "3681    1718\n",
       "1749    1365\n",
       "2330    1293\n",
       "1931    1244\n",
       "        ... \n",
       "339        1\n",
       "3694       1\n",
       "347        1\n",
       "1024       1\n",
       "2494       1\n",
       "Name: Description, Length: 3860, dtype: int64"
      ]
     },
     "execution_count": 45,
     "metadata": {},
     "output_type": "execute_result"
    }
   ],
   "source": [
    "ecom_df['Description'].value_counts()"
   ]
  },
  {
   "cell_type": "code",
   "execution_count": 46,
   "id": "f86f8619",
   "metadata": {},
   "outputs": [
    {
     "data": {
      "text/html": [
       "<div>\n",
       "<style scoped>\n",
       "    .dataframe tbody tr th:only-of-type {\n",
       "        vertical-align: middle;\n",
       "    }\n",
       "\n",
       "    .dataframe tbody tr th {\n",
       "        vertical-align: top;\n",
       "    }\n",
       "\n",
       "    .dataframe thead th {\n",
       "        text-align: right;\n",
       "    }\n",
       "</style>\n",
       "<table border=\"1\" class=\"dataframe\">\n",
       "  <thead>\n",
       "    <tr style=\"text-align: right;\">\n",
       "      <th></th>\n",
       "      <th>InvoiceNo</th>\n",
       "      <th>StockCode</th>\n",
       "      <th>Description</th>\n",
       "      <th>CustomerID</th>\n",
       "      <th>Country</th>\n",
       "      <th>AmtSpent</th>\n",
       "    </tr>\n",
       "  </thead>\n",
       "  <tbody>\n",
       "    <tr>\n",
       "      <th>count</th>\n",
       "      <td>380147.000000</td>\n",
       "      <td>380147.000000</td>\n",
       "      <td>380147.000000</td>\n",
       "      <td>380147.000000</td>\n",
       "      <td>380147.000000</td>\n",
       "      <td>380147.000000</td>\n",
       "    </tr>\n",
       "    <tr>\n",
       "      <th>mean</th>\n",
       "      <td>560619.281609</td>\n",
       "      <td>1564.207612</td>\n",
       "      <td>2007.082676</td>\n",
       "      <td>15302.753998</td>\n",
       "      <td>32.946771</td>\n",
       "      <td>13.494919</td>\n",
       "    </tr>\n",
       "    <tr>\n",
       "      <th>std</th>\n",
       "      <td>13128.162671</td>\n",
       "      <td>835.341206</td>\n",
       "      <td>1079.118298</td>\n",
       "      <td>1712.287265</td>\n",
       "      <td>6.571795</td>\n",
       "      <td>74.623378</td>\n",
       "    </tr>\n",
       "    <tr>\n",
       "      <th>min</th>\n",
       "      <td>536365.000000</td>\n",
       "      <td>0.000000</td>\n",
       "      <td>0.000000</td>\n",
       "      <td>12347.000000</td>\n",
       "      <td>0.000000</td>\n",
       "      <td>-38970.000000</td>\n",
       "    </tr>\n",
       "    <tr>\n",
       "      <th>25%</th>\n",
       "      <td>549148.000000</td>\n",
       "      <td>940.000000</td>\n",
       "      <td>1129.000000</td>\n",
       "      <td>13975.000000</td>\n",
       "      <td>35.000000</td>\n",
       "      <td>3.950000</td>\n",
       "    </tr>\n",
       "    <tr>\n",
       "      <th>50%</th>\n",
       "      <td>561893.000000</td>\n",
       "      <td>1517.000000</td>\n",
       "      <td>1969.000000</td>\n",
       "      <td>15187.000000</td>\n",
       "      <td>35.000000</td>\n",
       "      <td>10.200000</td>\n",
       "    </tr>\n",
       "    <tr>\n",
       "      <th>75%</th>\n",
       "      <td>572107.000000</td>\n",
       "      <td>2092.000000</td>\n",
       "      <td>2920.000000</td>\n",
       "      <td>16806.000000</td>\n",
       "      <td>35.000000</td>\n",
       "      <td>17.400000</td>\n",
       "    </tr>\n",
       "    <tr>\n",
       "      <th>max</th>\n",
       "      <td>581587.000000</td>\n",
       "      <td>3664.000000</td>\n",
       "      <td>3859.000000</td>\n",
       "      <td>18287.000000</td>\n",
       "      <td>36.000000</td>\n",
       "      <td>8142.750000</td>\n",
       "    </tr>\n",
       "  </tbody>\n",
       "</table>\n",
       "</div>"
      ],
      "text/plain": [
       "           InvoiceNo      StockCode    Description     CustomerID  \\\n",
       "count  380147.000000  380147.000000  380147.000000  380147.000000   \n",
       "mean   560619.281609    1564.207612    2007.082676   15302.753998   \n",
       "std     13128.162671     835.341206    1079.118298    1712.287265   \n",
       "min    536365.000000       0.000000       0.000000   12347.000000   \n",
       "25%    549148.000000     940.000000    1129.000000   13975.000000   \n",
       "50%    561893.000000    1517.000000    1969.000000   15187.000000   \n",
       "75%    572107.000000    2092.000000    2920.000000   16806.000000   \n",
       "max    581587.000000    3664.000000    3859.000000   18287.000000   \n",
       "\n",
       "             Country       AmtSpent  \n",
       "count  380147.000000  380147.000000  \n",
       "mean       32.946771      13.494919  \n",
       "std         6.571795      74.623378  \n",
       "min         0.000000  -38970.000000  \n",
       "25%        35.000000       3.950000  \n",
       "50%        35.000000      10.200000  \n",
       "75%        35.000000      17.400000  \n",
       "max        36.000000    8142.750000  "
      ]
     },
     "execution_count": 46,
     "metadata": {},
     "output_type": "execute_result"
    }
   ],
   "source": [
    "ecom_df.describe()"
   ]
  },
  {
   "cell_type": "code",
   "execution_count": 47,
   "id": "bc6fea46",
   "metadata": {},
   "outputs": [],
   "source": [
    "df_norm = (ecom_df - ecom_df.min()) / (ecom_df.max() - ecom_df.min())"
   ]
  },
  {
   "cell_type": "code",
   "execution_count": 48,
   "id": "f6dea118",
   "metadata": {},
   "outputs": [
    {
     "data": {
      "text/html": [
       "<div>\n",
       "<style scoped>\n",
       "    .dataframe tbody tr th:only-of-type {\n",
       "        vertical-align: middle;\n",
       "    }\n",
       "\n",
       "    .dataframe tbody tr th {\n",
       "        vertical-align: top;\n",
       "    }\n",
       "\n",
       "    .dataframe thead th {\n",
       "        text-align: right;\n",
       "    }\n",
       "</style>\n",
       "<table border=\"1\" class=\"dataframe\">\n",
       "  <thead>\n",
       "    <tr style=\"text-align: right;\">\n",
       "      <th></th>\n",
       "      <th>InvoiceNo</th>\n",
       "      <th>StockCode</th>\n",
       "      <th>Description</th>\n",
       "      <th>InvoiceDate</th>\n",
       "      <th>CustomerID</th>\n",
       "      <th>Country</th>\n",
       "      <th>AmtSpent</th>\n",
       "    </tr>\n",
       "  </thead>\n",
       "  <tbody>\n",
       "    <tr>\n",
       "      <th>0</th>\n",
       "      <td>0.0</td>\n",
       "      <td>0.882096</td>\n",
       "      <td>0.953874</td>\n",
       "      <td>0.0</td>\n",
       "      <td>0.926431</td>\n",
       "      <td>0.972222</td>\n",
       "      <td>0.827489</td>\n",
       "    </tr>\n",
       "    <tr>\n",
       "      <th>1</th>\n",
       "      <td>0.0</td>\n",
       "      <td>0.719432</td>\n",
       "      <td>0.955947</td>\n",
       "      <td>0.0</td>\n",
       "      <td>0.926431</td>\n",
       "      <td>0.972222</td>\n",
       "      <td>0.827596</td>\n",
       "    </tr>\n",
       "    <tr>\n",
       "      <th>2</th>\n",
       "      <td>0.0</td>\n",
       "      <td>0.775109</td>\n",
       "      <td>0.21845</td>\n",
       "      <td>0.0</td>\n",
       "      <td>0.926431</td>\n",
       "      <td>0.972222</td>\n",
       "      <td>0.827632</td>\n",
       "    </tr>\n",
       "    <tr>\n",
       "      <th>3</th>\n",
       "      <td>0.0</td>\n",
       "      <td>0.760917</td>\n",
       "      <td>0.46411</td>\n",
       "      <td>0.0</td>\n",
       "      <td>0.926431</td>\n",
       "      <td>0.972222</td>\n",
       "      <td>0.827596</td>\n",
       "    </tr>\n",
       "    <tr>\n",
       "      <th>4</th>\n",
       "      <td>0.0</td>\n",
       "      <td>0.760644</td>\n",
       "      <td>0.711583</td>\n",
       "      <td>0.0</td>\n",
       "      <td>0.926431</td>\n",
       "      <td>0.972222</td>\n",
       "      <td>0.827596</td>\n",
       "    </tr>\n",
       "  </tbody>\n",
       "</table>\n",
       "</div>"
      ],
      "text/plain": [
       "  InvoiceNo StockCode Description  InvoiceDate CustomerID   Country  AmtSpent\n",
       "0       0.0  0.882096    0.953874          0.0   0.926431  0.972222  0.827489\n",
       "1       0.0  0.719432    0.955947          0.0   0.926431  0.972222  0.827596\n",
       "2       0.0  0.775109     0.21845          0.0   0.926431  0.972222  0.827632\n",
       "3       0.0  0.760917     0.46411          0.0   0.926431  0.972222  0.827596\n",
       "4       0.0  0.760644    0.711583          0.0   0.926431  0.972222  0.827596"
      ]
     },
     "execution_count": 48,
     "metadata": {},
     "output_type": "execute_result"
    }
   ],
   "source": [
    "df_norm.head()"
   ]
  },
  {
   "cell_type": "code",
   "execution_count": null,
   "id": "64b66457",
   "metadata": {},
   "outputs": [],
   "source": []
  },
  {
   "cell_type": "markdown",
   "id": "512688dd",
   "metadata": {},
   "source": [
    "## How are you handling nulls? \n",
    "\n",
    "I removed the nulls - CustomerID was the main column to be used later on and that was where the majority of nulls was at. Once that column was dropped, the rows with nulls in Description also got dropped.\n",
    "\n",
    "## What process(es) are you using to encode and normalize the data? \n",
    "\n",
    "I used LabelEncoder to encode the object fields. I also used outlier detection and removed rows based on the results of that process. I also normalized all variables in the dataframe by using a normalization calculation where the minimum is subtracted from the value in the dataset and the result is divided by the maximum minus the minimum."
   ]
  },
  {
   "cell_type": "markdown",
   "id": "e4c575d9",
   "metadata": {},
   "source": [
    "### 4. Perform k-means on this dataset for customer segments. Customer segments help determine what types of people buy your product, which allows you to target more people like your usual customers.\n"
   ]
  },
  {
   "cell_type": "code",
   "execution_count": 49,
   "id": "fd62f691",
   "metadata": {},
   "outputs": [],
   "source": [
    "df=ecom_df[['CustomerID', 'Country', 'AmtSpent']]"
   ]
  },
  {
   "cell_type": "code",
   "execution_count": 50,
   "id": "2c896aba",
   "metadata": {},
   "outputs": [],
   "source": [
    "cust_df = df.groupby('CustomerID').sum('AmtSpent')"
   ]
  },
  {
   "cell_type": "code",
   "execution_count": 51,
   "id": "030197d0",
   "metadata": {},
   "outputs": [
    {
     "data": {
      "text/html": [
       "<div>\n",
       "<style scoped>\n",
       "    .dataframe tbody tr th:only-of-type {\n",
       "        vertical-align: middle;\n",
       "    }\n",
       "\n",
       "    .dataframe tbody tr th {\n",
       "        vertical-align: top;\n",
       "    }\n",
       "\n",
       "    .dataframe thead th {\n",
       "        text-align: right;\n",
       "    }\n",
       "</style>\n",
       "<table border=\"1\" class=\"dataframe\">\n",
       "  <thead>\n",
       "    <tr style=\"text-align: right;\">\n",
       "      <th></th>\n",
       "      <th>Country</th>\n",
       "      <th>AmtSpent</th>\n",
       "    </tr>\n",
       "    <tr>\n",
       "      <th>CustomerID</th>\n",
       "      <th></th>\n",
       "      <th></th>\n",
       "    </tr>\n",
       "  </thead>\n",
       "  <tbody>\n",
       "    <tr>\n",
       "      <th>12347</th>\n",
       "      <td>2768</td>\n",
       "      <td>3643.58</td>\n",
       "    </tr>\n",
       "    <tr>\n",
       "      <th>12348</th>\n",
       "      <td>120</td>\n",
       "      <td>450.20</td>\n",
       "    </tr>\n",
       "    <tr>\n",
       "      <th>12349</th>\n",
       "      <td>1278</td>\n",
       "      <td>1667.55</td>\n",
       "    </tr>\n",
       "    <tr>\n",
       "      <th>12350</th>\n",
       "      <td>408</td>\n",
       "      <td>334.40</td>\n",
       "    </tr>\n",
       "    <tr>\n",
       "      <th>12352</th>\n",
       "      <td>2280</td>\n",
       "      <td>1545.41</td>\n",
       "    </tr>\n",
       "  </tbody>\n",
       "</table>\n",
       "</div>"
      ],
      "text/plain": [
       "            Country  AmtSpent\n",
       "CustomerID                   \n",
       "12347          2768   3643.58\n",
       "12348           120    450.20\n",
       "12349          1278   1667.55\n",
       "12350           408    334.40\n",
       "12352          2280   1545.41"
      ]
     },
     "execution_count": 51,
     "metadata": {},
     "output_type": "execute_result"
    }
   ],
   "source": [
    "cust_df.head()"
   ]
  },
  {
   "cell_type": "code",
   "execution_count": 52,
   "id": "a1574a30",
   "metadata": {},
   "outputs": [],
   "source": [
    "from sklearn.decomposition import PCA\n",
    "pca = PCA(2)\n",
    "df2 = pca.fit_transform(cust_df)"
   ]
  },
  {
   "cell_type": "code",
   "execution_count": 53,
   "id": "cecc167b",
   "metadata": {},
   "outputs": [
    {
     "data": {
      "text/plain": [
       "(4274, 2)"
      ]
     },
     "execution_count": 53,
     "metadata": {},
     "output_type": "execute_result"
    }
   ],
   "source": [
    "df2.shape"
   ]
  },
  {
   "cell_type": "code",
   "execution_count": 54,
   "id": "8a265d26",
   "metadata": {},
   "outputs": [],
   "source": [
    "# look at clusters \n",
    "from sklearn.cluster import KMeans\n",
    "\n"
   ]
  },
  {
   "cell_type": "code",
   "execution_count": 55,
   "id": "64755daa",
   "metadata": {},
   "outputs": [],
   "source": [
    "#X = df_norm.drop('CustomerID', axis=1).values\n",
    "#y = df_norm['CustomerID'].values\n",
    "inertias = []\n",
    "\n",
    "for k in range(1,10):\n",
    "    #build and fit the model\n",
    "    model = KMeans(n_clusters=k).fit(df2)\n",
    "    \n",
    "    inertia = model.inertia_\n",
    "    inertias.append(inertia)"
   ]
  },
  {
   "cell_type": "code",
   "execution_count": 56,
   "id": "96e4414d",
   "metadata": {},
   "outputs": [
    {
     "data": {
      "image/png": "[encoded data removed]",
      "text/plain": [
       "<Figure size 648x432 with 1 Axes>"
      ]
     },
     "metadata": {
      "needs_background": "light"
     },
     "output_type": "display_data"
    }
   ],
   "source": [
    "plt.figure(figsize = (9,6))\n",
    "plt.plot(range(1,10),inertias)\n",
    "plt.title('Elbow Method with Inertia')\n",
    "plt.xlabel('No. of clusters')\n",
    "plt.show()"
   ]
  },
  {
   "cell_type": "code",
   "execution_count": 57,
   "id": "7f0f6ce6",
   "metadata": {},
   "outputs": [
    {
     "name": "stdout",
     "output_type": "stream",
     "text": [
      "[0 0 0 ... 0 2 0]\n"
     ]
    }
   ],
   "source": [
    "kmeans = KMeans(n_clusters=3)\n",
    "\n",
    "label = kmeans.fit_predict(df2)\n",
    "\n",
    "print(label)"
   ]
  },
  {
   "cell_type": "code",
   "execution_count": 58,
   "id": "79bb3b38",
   "metadata": {},
   "outputs": [],
   "source": [
    "filtered_label0 = df2[label == 0]"
   ]
  },
  {
   "cell_type": "code",
   "execution_count": 59,
   "id": "e6860539",
   "metadata": {},
   "outputs": [
    {
     "data": {
      "text/plain": [
       "array([[  469.6955567 ,  2403.20975379],\n",
       "       [-2908.79429736,    -4.15106885],\n",
       "       [-1477.2935635 ,   875.45718   ],\n",
       "       ...,\n",
       "       [-2882.71880579,  -393.23544676],\n",
       "       [-2692.57677745,  -358.99995849],\n",
       "       [-1159.81938903,    95.1331879 ]])"
      ]
     },
     "execution_count": 59,
     "metadata": {},
     "output_type": "execute_result"
    }
   ],
   "source": [
    "filtered_label0"
   ]
  },
  {
   "cell_type": "code",
   "execution_count": 60,
   "id": "ee54f485",
   "metadata": {},
   "outputs": [
    {
     "data": {
      "text/plain": [
       "array([  469.6955567 , -2908.79429736, -1477.2935635 , ...,\n",
       "       -2882.71880579, -2692.57677745, -1159.81938903])"
      ]
     },
     "execution_count": 60,
     "metadata": {},
     "output_type": "execute_result"
    }
   ],
   "source": [
    "filtered_label0[:,0]"
   ]
  },
  {
   "cell_type": "code",
   "execution_count": 61,
   "id": "3e45d1bb",
   "metadata": {},
   "outputs": [
    {
     "data": {
      "image/png": "[encoded data removed]",
      "text/plain": [
       "<Figure size 432x288 with 1 Axes>"
      ]
     },
     "metadata": {
      "needs_background": "light"
     },
     "output_type": "display_data"
    }
   ],
   "source": [
    "plt.scatter(filtered_label0[:,0], filtered_label0[:,1])\n",
    "plt.show()"
   ]
  },
  {
   "cell_type": "code",
   "execution_count": 62,
   "id": "535cd83f",
   "metadata": {},
   "outputs": [
    {
     "data": {
      "image/png": "[encoded data removed]",
      "text/plain": [
       "<Figure size 432x288 with 1 Axes>"
      ]
     },
     "metadata": {
      "needs_background": "light"
     },
     "output_type": "display_data"
    }
   ],
   "source": [
    "#Getting unique labels\n",
    " \n",
    "u_labels = np.unique(label)\n",
    " \n",
    "#plotting the results:\n",
    " \n",
    "for i in u_labels:\n",
    "    plt.scatter(df2[label == i , 0] , df2[label == i , 1] , label = i)\n",
    "plt.legend()\n",
    "plt.show()"
   ]
  },
  {
   "cell_type": "code",
   "execution_count": 63,
   "id": "25ad4db9",
   "metadata": {},
   "outputs": [
    {
     "data": {
      "image/png": "[encoded data removed]",
      "text/plain": [
       "<Figure size 432x288 with 1 Axes>"
      ]
     },
     "metadata": {
      "needs_background": "light"
     },
     "output_type": "display_data"
    }
   ],
   "source": [
    "#Getting the Centroids\n",
    "centroids = kmeans.cluster_centers_\n",
    "u_labels = np.unique(label)\n",
    " \n",
    "#plotting the results:\n",
    " \n",
    "for i in u_labels:\n",
    "    plt.scatter(df2[label == i , 0] , df2[label == i , 1] , label = i)\n",
    "plt.scatter(centroids[:,0] , centroids[:,1] , s = 80, color = 'k')\n",
    "plt.legend()\n",
    "plt.show()"
   ]
  },
  {
   "cell_type": "markdown",
   "id": "7b0168f9",
   "metadata": {},
   "source": [
    "### Should you look at all the data, or which subset of data should you use? \n",
    "\n",
    "I only used CustomerID, Country and AmtSpent. \n",
    "\n",
    "### What is the ideal number of clusters? \n",
    "\n",
    "The ideal number of clusters appears to be 3, with all of the normalized data. \n",
    "\n",
    "### Which approach did you use to find the ideal number of clusters and why?\n",
    "\n",
    "I used the Elbow Method with inertia - I thought it was the easiest to read."
   ]
  },
  {
   "cell_type": "markdown",
   "id": "f0928dac",
   "metadata": {},
   "source": [
    "### 5. Perform hierarchical clustering for customer segments. \n"
   ]
  },
  {
   "cell_type": "markdown",
   "id": "7148a0f4",
   "metadata": {},
   "source": [
    "Created a new dataframe with just 3 fields, then dropped duplicates. Could not get dendrogram to run with as much data as KMeans."
   ]
  },
  {
   "cell_type": "code",
   "execution_count": 64,
   "id": "c9647c9a",
   "metadata": {},
   "outputs": [],
   "source": [
    "# Import dendrogram, fcluster and linkage\n",
    "from scipy.cluster.hierarchy import dendrogram, fcluster, linkage\n"
   ]
  },
  {
   "cell_type": "code",
   "execution_count": 65,
   "id": "3ef30283",
   "metadata": {},
   "outputs": [
    {
     "data": {
      "image/png": "[encoded data removed]",
      "text/plain": [
       "<Figure size 1152x864 with 1 Axes>"
      ]
     },
     "metadata": {
      "needs_background": "light"
     },
     "output_type": "display_data"
    }
   ],
   "source": [
    "linked = linkage(df2, method='complete', metric = 'euclidean')\n",
    "plt.figure(figsize = (16,12))\n",
    "dendrogram(linked, leaf_rotation=45., leaf_font_size=12.)\n",
    "plt.title('Hierarchical Clustering Dendrogram')\n",
    "plt.xlabel('Cluster Size')\n",
    "plt.ylabel('Distance')\n",
    "plt.rcParams[\"figure.figsize\"] = (16,12)\n",
    "plt.show()"
   ]
  },
  {
   "cell_type": "markdown",
   "id": "f35d2425",
   "metadata": {},
   "source": [
    "### What is the ideal number of clusters? \n",
    "\n",
    "The ideal number of clusters was 3, I believe but for some reason, my chart is off the screen.\n",
    "\n",
    "### Which approach did you use to find the ideal number of clusters and why?\n",
    "\n",
    "I used the dendrogram output to determine the ideal number of clusters. I tried using a Scree Plot to help with the optimum number of clusters but that ran a long time and doesn't have the resulting plot that I was looking for. Probably because there is just too much data in the dataset."
   ]
  },
  {
   "cell_type": "markdown",
   "id": "fb37cf16",
   "metadata": {},
   "source": [
    "### 6. Compare the results of 4 and 5. Which approach do you think is best? Why?"
   ]
  },
  {
   "cell_type": "markdown",
   "id": "7de137f1",
   "metadata": {},
   "source": [
    "KMeans/elbow method is the better approach given the dataset being used for the following reasons:\n",
    "- KMeans/elbow runs faster than Hierarchical/dendrogram\n",
    "- Additional columns had to be dropped before running hierarchical in order to get it to run\n",
    "\n",
    "If you have large data, you will need to stay away from hierarchical clustering."
   ]
  },
  {
   "attachments": {
    "Unsuper_Learning.PNG": {
     "image/png": "[encoded data removed]"
    }
   },
   "cell_type": "markdown",
   "id": "49c8584b",
   "metadata": {},
   "source": [
    "![Unsuper_Learning.PNG](attachment:Unsuper_Learning.PNG)"
   ]
  }
 ],
 "metadata": {
  "kernelspec": {
   "display_name": "Python 3 (ipykernel)",
   "language": "python",
   "name": "python3"
  },
  "language_info": {
   "codemirror_mode": {
    "name": "ipython",
    "version": 3
   },
   "file_extension": ".py",
   "mimetype": "text/x-python",
   "name": "python",
   "nbconvert_exporter": "python",
   "pygments_lexer": "ipython3",
   "version": "3.9.7"
  }
 },
 "nbformat": 4,
 "nbformat_minor": 5
}
